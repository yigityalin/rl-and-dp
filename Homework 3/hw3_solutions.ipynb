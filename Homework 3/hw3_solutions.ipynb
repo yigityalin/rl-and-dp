{
 "cells": [
  {
   "cell_type": "markdown",
   "id": "afd06c1f",
   "metadata": {},
   "source": [
    "## Author"
   ]
  },
  {
   "cell_type": "markdown",
   "id": "308b4042",
   "metadata": {},
   "source": [
    "**Full Name: Yiğit Yalın**\n",
    "\n",
    "**Student ID: 22002178**"
   ]
  },
  {
   "cell_type": "markdown",
   "id": "da44b08e",
   "metadata": {},
   "source": [
    "### Import the required libraries"
   ]
  },
  {
   "cell_type": "code",
   "execution_count": 1,
   "id": "57fbe5a3",
   "metadata": {},
   "outputs": [],
   "source": [
    "from collections import namedtuple\n",
    "from enum import IntEnum\n",
    "from tabulate import tabulate\n",
    "from tqdm.notebook import tqdm\n",
    "\n",
    "import numpy as np\n",
    "import matplotlib.pyplot as plt\n",
    "import networkx as nx\n",
    "%matplotlib inline\n",
    "\n",
    "np.set_printoptions(precision=5)"
   ]
  },
  {
   "cell_type": "markdown",
   "id": "5b7852b0",
   "metadata": {},
   "source": [
    "## Enumerate the actions"
   ]
  },
  {
   "cell_type": "code",
   "execution_count": 2,
   "id": "09a7e36b",
   "metadata": {},
   "outputs": [],
   "source": [
    "class Actions(IntEnum):\n",
    "    GRAB = 0\n",
    "    DRY = 1\n",
    "    STORE = 2\n",
    "    \n",
    "    def __str__(self):\n",
    "        return \"A\" + str(self.value)"
   ]
  },
  {
   "cell_type": "markdown",
   "id": "907252bc",
   "metadata": {},
   "source": [
    "## Enumerate the states"
   ]
  },
  {
   "cell_type": "code",
   "execution_count": 3,
   "id": "b498c01a",
   "metadata": {},
   "outputs": [],
   "source": [
    "class States(IntEnum):\n",
    "    NOT_HOLDING_CUPS = 0\n",
    "    HOLDING_A_WET_CUP = 1\n",
    "    HOLDING_A_DRY_CUP = 2\n",
    "    JOB_DONE = 3\n",
    "    \n",
    "    def __str__(self):\n",
    "        return \"S\" + str(self.value)\n",
    "    \n",
    "    @staticmethod\n",
    "    def is_terminal(state):\n",
    "        return state == States.JOB_DONE\n",
    "    \n",
    "    @staticmethod\n",
    "    def get_nonterminal():\n",
    "        return [state for state in States if not States.is_terminal(state)]\n",
    "    \n",
    "    @staticmethod\n",
    "    def get_possible_actions(state):\n",
    "        if States.is_terminal(state):\n",
    "            return [Actions.STORE]\n",
    "        elif state == States.NOT_HOLDING_CUPS:\n",
    "            return [Actions.GRAB]\n",
    "        else:\n",
    "            return list(Actions)"
   ]
  },
  {
   "cell_type": "markdown",
   "id": "a769f992",
   "metadata": {},
   "source": [
    "## Model the environment"
   ]
  },
  {
   "cell_type": "markdown",
   "id": "a6202729",
   "metadata": {},
   "source": [
    "The following graph includes the possible actions for each state and associated rewards. Then, we will construct the one-step transition and reward matrices."
   ]
  },
  {
   "cell_type": "code",
   "execution_count": 4,
   "id": "abf3974f",
   "metadata": {},
   "outputs": [],
   "source": [
    "class StateActionPair(namedtuple('StateActionPair', ['state', 'action'])):\n",
    "    __slots__ = ()\n",
    "    \n",
    "    def __str__(self):\n",
    "        return str(self.action)\n",
    "    \n",
    "    def __int__(self):\n",
    "        return int(self.action)"
   ]
  },
  {
   "cell_type": "code",
   "execution_count": 5,
   "id": "0be3a7ed",
   "metadata": {},
   "outputs": [],
   "source": [
    "G = nx.DiGraph()\n",
    "\n",
    "edges = [\n",
    "    (\n",
    "        States.NOT_HOLDING_CUPS, \n",
    "        StateActionPair(States.NOT_HOLDING_CUPS, Actions.GRAB), \n",
    "        dict(reward=0)\n",
    "    ),\n",
    "    (\n",
    "        States.HOLDING_A_WET_CUP, \n",
    "        StateActionPair(States.HOLDING_A_WET_CUP, Actions.GRAB), \n",
    "        dict(reward=-20)\n",
    "    ),\n",
    "    (\n",
    "        States.HOLDING_A_WET_CUP, \n",
    "        StateActionPair(States.HOLDING_A_WET_CUP, Actions.DRY),\n",
    "        dict(reward=0)\n",
    "    ),\n",
    "    (\n",
    "        States.HOLDING_A_WET_CUP, \n",
    "        StateActionPair(States.HOLDING_A_WET_CUP, Actions.STORE), \n",
    "        dict(reward=5)\n",
    "    ),\n",
    "    (\n",
    "        States.HOLDING_A_DRY_CUP, \n",
    "        StateActionPair(States.HOLDING_A_DRY_CUP, Actions.GRAB),\n",
    "        dict(reward=-20)\n",
    "    ),\n",
    "    (\n",
    "        States.HOLDING_A_DRY_CUP, \n",
    "        StateActionPair(States.HOLDING_A_DRY_CUP, Actions.DRY), \n",
    "        dict(reward=0)\n",
    "    ),\n",
    "    (\n",
    "        States.HOLDING_A_DRY_CUP, \n",
    "        StateActionPair(States.HOLDING_A_DRY_CUP, Actions.STORE),\n",
    "        dict(reward=10)\n",
    "    ),\n",
    "    (\n",
    "        StateActionPair(States.NOT_HOLDING_CUPS, Actions.GRAB),\n",
    "        States.HOLDING_A_WET_CUP,\n",
    "        dict(reward=0)\n",
    "    ),\n",
    "    (\n",
    "        StateActionPair(States.HOLDING_A_WET_CUP, Actions.GRAB),\n",
    "        States.HOLDING_A_WET_CUP,\n",
    "        dict(reward=0)\n",
    "    ),\n",
    "    (\n",
    "        StateActionPair(States.HOLDING_A_WET_CUP, Actions.DRY),\n",
    "        States.HOLDING_A_DRY_CUP,\n",
    "        dict(reward=0)\n",
    "    ),\n",
    "    (\n",
    "        StateActionPair(States.HOLDING_A_WET_CUP, Actions.DRY),\n",
    "        States.NOT_HOLDING_CUPS,\n",
    "        dict(reward=-20)\n",
    "    ),\n",
    "    (\n",
    "        StateActionPair(States.HOLDING_A_WET_CUP, Actions.STORE),\n",
    "        States.JOB_DONE,\n",
    "        dict(reward=0)\n",
    "    ),\n",
    "    (\n",
    "        StateActionPair(States.HOLDING_A_DRY_CUP, Actions.GRAB),\n",
    "        States.HOLDING_A_WET_CUP,\n",
    "        dict(reward=0)\n",
    "    ),\n",
    "    (\n",
    "        StateActionPair(States.HOLDING_A_DRY_CUP, Actions.DRY),\n",
    "        States.NOT_HOLDING_CUPS,\n",
    "        dict(reward=-20)\n",
    "    ),\n",
    "    (\n",
    "        StateActionPair(States.HOLDING_A_DRY_CUP, Actions.DRY),\n",
    "        States.HOLDING_A_DRY_CUP,\n",
    "        dict(reward=0)\n",
    "    ),\n",
    "    (\n",
    "        StateActionPair(States.HOLDING_A_DRY_CUP, Actions.STORE),\n",
    "        States.JOB_DONE,\n",
    "        dict(reward=0)\n",
    "    )\n",
    "]\n",
    "\n",
    "G.add_edges_from(edges)"
   ]
  },
  {
   "cell_type": "code",
   "execution_count": 6,
   "id": "d2aed3ec",
   "metadata": {
    "scrolled": false
   },
   "outputs": [
    {
     "data": {
      "image/png": "[encoded data removed]",
      "text/plain": [
       "<Figure size 576x432 with 1 Axes>"
      ]
     },
     "execution_count": 6,
     "metadata": {},
     "output_type": "display_data"
    }
   ],
   "source": [
    "positions = {\n",
    "    States.NOT_HOLDING_CUPS: np.array([0, 0]),\n",
    "    States.HOLDING_A_WET_CUP: np.array([20, 10]),\n",
    "    States.HOLDING_A_DRY_CUP: np.array([20, -10]),\n",
    "    States.JOB_DONE: np.array([40, 0]),\n",
    "    StateActionPair(States.NOT_HOLDING_CUPS, Actions.GRAB): np.array([10, 5]),\n",
    "    StateActionPair(States.HOLDING_A_WET_CUP, Actions.GRAB): np.array([10, 10]),\n",
    "    StateActionPair(States.HOLDING_A_WET_CUP, Actions.STORE): np.array([30, 10]),\n",
    "    StateActionPair(States.HOLDING_A_WET_CUP, Actions.DRY): np.array([20, 0]),\n",
    "    StateActionPair(States.HOLDING_A_DRY_CUP, Actions.GRAB): np.array([30, 0]),\n",
    "    StateActionPair(States.HOLDING_A_DRY_CUP, Actions.DRY): np.array([10, -10]),\n",
    "    StateActionPair(States.HOLDING_A_DRY_CUP, Actions.STORE): np.array([30, -10])\n",
    "}\n",
    "\n",
    "state_nodes = set(States)\n",
    "action_nodes = set(G.nodes()) - state_nodes\n",
    "nx.draw_networkx_nodes(G, positions, nodelist=state_nodes, node_size=600)\n",
    "nx.draw_networkx_nodes(G, positions, nodelist=action_nodes, node_size=300)\n",
    "\n",
    "nx.draw_networkx_labels(G, positions, labels={node: node for node in state_nodes},\n",
    "                        font_size=16, font_color='white', font_weight='bold')\n",
    "nx.draw_networkx_labels(G, positions, labels={node: node for node in action_nodes},\n",
    "                        font_size=11, font_color='white', font_weight='bold')\n",
    "\n",
    "edges_loop = set([\n",
    "    (\n",
    "        StateActionPair(States.HOLDING_A_WET_CUP, Actions.GRAB),\n",
    "        States.HOLDING_A_WET_CUP,\n",
    "    ),\n",
    "    (\n",
    "        StateActionPair(States.HOLDING_A_DRY_CUP, Actions.DRY),\n",
    "        States.HOLDING_A_DRY_CUP,\n",
    "    )\n",
    "])\n",
    "nx.draw_networkx_edges(G, positions, edgelist=set(G.edges()) - edges_loop, width=2)\n",
    "edge_labels = nx.get_edge_attributes(G, \"reward\")\n",
    "\n",
    "ax = plt.gca()\n",
    "for edge in edges_loop:\n",
    "    edge_labels.pop(edge)\n",
    "    arrow_position = positions[edge[1]] - np.array([0.7, 0])\n",
    "    start_position = positions[edge[0]] + np.array([0.7, 0])\n",
    "    reward_position = (arrow_position + start_position) / 2 + np.array([0, 1.5])\n",
    "    reward = G.get_edge_data(edge[0], edge[1]).get(\"reward\")\n",
    "    correction = np.array([reward * 0.05 - 1.6, 0])\n",
    "    \n",
    "    ax.annotate(\n",
    "        '   ' + str(reward),\n",
    "        xy=start_position, xycoords='data', \n",
    "        xytext=reward_position + correction, textcoords='data',\n",
    "        arrowprops=dict(\n",
    "            arrowstyle=\"-\", color=\"0\",\n",
    "            shrinkA=5, shrinkB=5,\n",
    "            patchA=None, patchB=None,\n",
    "            connectionstyle=f\"arc3,rad={0.2}\"\n",
    "        ),\n",
    "        verticalalignment='center', fontsize=12\n",
    "    )\n",
    "    ax.annotate(\n",
    "        '',\n",
    "        xy=arrow_position, xycoords='data',\n",
    "        xytext=reward_position, textcoords='data',\n",
    "        arrowprops=dict(\n",
    "            arrowstyle=\"->\", color=\"0\",\n",
    "            shrinkA=5, shrinkB=5,\n",
    "            patchA=None, patchB=None,\n",
    "            connectionstyle=f\"arc3,rad={-0.2}\"\n",
    "        ),\n",
    "    )\n",
    "\n",
    "\n",
    "nx.draw_networkx_edge_labels(G, positions, edge_labels, font_size=12)\n",
    "\n",
    "ax.margins(0.08)\n",
    "\n",
    "fig = ax.get_figure()\n",
    "fig.set_size_inches(8, 6)\n",
    "\n",
    "plt.axis(\"off\")\n",
    "plt.tight_layout()\n",
    "plt.show()"
   ]
  },
  {
   "cell_type": "markdown",
   "id": "9d977e8c",
   "metadata": {},
   "source": [
    "### Construct the one-step probability matrices for each action"
   ]
  },
  {
   "cell_type": "code",
   "execution_count": 7,
   "id": "6e9e0a11",
   "metadata": {},
   "outputs": [
    {
     "execution_count": 7,
     "name": "stdout",
     "output_type": "stream",
     "text": [
      "[[0 1 0 0]\n",
      " [0 1 0 0]\n",
      " [0 1 0 0]\n",
      " [0 0 0 1]]\n"
     ]
    }
   ],
   "source": [
    "P_grab = np.array([\n",
    "    [0, 1, 0, 0],\n",
    "    [0, 1, 0, 0],\n",
    "    [0, 1, 0, 0],\n",
    "    [0, 0, 0, 1]\n",
    "])\n",
    "\n",
    "print(P_grab)"
   ]
  },
  {
   "cell_type": "code",
   "execution_count": 8,
   "id": "b2b9fb23",
   "metadata": {},
   "outputs": [
    {
     "execution_count": 8,
     "name": "stdout",
     "output_type": "stream",
     "text": [
      "[[1.  0.  0.  0. ]\n",
      " [0.1 0.  0.9 0. ]\n",
      " [0.1 0.  0.9 0. ]\n",
      " [0.  0.  0.  1. ]]\n"
     ]
    }
   ],
   "source": [
    "P_dry = np.array([\n",
    "    [1, 0, 0, 0],\n",
    "    [0.1, 0, 0.9, 0],\n",
    "    [0.1, 0, 0.9, 0],\n",
    "    [0, 0, 0, 1]\n",
    "])\n",
    "\n",
    "print(P_dry)"
   ]
  },
  {
   "cell_type": "code",
   "execution_count": 9,
   "id": "dcfce075",
   "metadata": {},
   "outputs": [
    {
     "execution_count": 9,
     "name": "stdout",
     "output_type": "stream",
     "text": [
      "[[1 0 0 0]\n",
      " [0 0 0 1]\n",
      " [0 0 0 1]\n",
      " [0 0 0 1]]\n"
     ]
    }
   ],
   "source": [
    "P_store = np.array([\n",
    "    [1, 0, 0, 0],\n",
    "    [0, 0, 0, 1],\n",
    "    [0, 0, 0, 1],\n",
    "    [0, 0, 0, 1]\n",
    "])\n",
    "\n",
    "print(P_store)"
   ]
  },
  {
   "cell_type": "code",
   "execution_count": 10,
   "id": "50472cc3",
   "metadata": {},
   "outputs": [
    {
     "execution_count": 10,
     "name": "stdout",
     "output_type": "stream",
     "text": [
      "One-step transition matrix for the action \"GRAB\":\n",
      "[[0. 1. 0. 0.]\n",
      " [0. 1. 0. 0.]\n",
      " [0. 1. 0. 0.]\n",
      " [0. 0. 0. 1.]]\n",
      "\n",
      "One-step transition matrix for the action \"DRY\":\n",
      "[[1.  0.  0.  0. ]\n",
      " [0.1 0.  0.9 0. ]\n",
      " [0.1 0.  0.9 0. ]\n",
      " [0.  0.  0.  1. ]]\n",
      "\n",
      "One-step transition matrix for the action \"STORE\":\n",
      "[[1. 0. 0. 0.]\n",
      " [0. 0. 0. 1.]\n",
      " [0. 0. 0. 1.]\n",
      " [0. 0. 0. 1.]]\n",
      "\n"
     ]
    }
   ],
   "source": [
    "P = np.concatenate(\n",
    "    [P_grab[np.newaxis, ...], P_dry[np.newaxis, ...], P_store[np.newaxis, ...]], \n",
    "    axis=0\n",
    ")\n",
    "\n",
    "for action in Actions:\n",
    "    print(f'One-step transition matrix for the action \"{action.name}\":', P[action], \n",
    "          sep='\\n', end='\\n\\n')"
   ]
  },
  {
   "cell_type": "markdown",
   "id": "099cb9e4",
   "metadata": {},
   "source": [
    "### Construct the reward vector for each action"
   ]
  },
  {
   "cell_type": "code",
   "execution_count": 11,
   "id": "e01e788c",
   "metadata": {},
   "outputs": [
    {
     "execution_count": 11,
     "name": "stdout",
     "output_type": "stream",
     "text": [
      "[[  0. -20. -20.   0.]\n",
      " [  0.   0.   0.   0.]\n",
      " [  0.   5.  10.   0.]]\n"
     ]
    }
   ],
   "source": [
    "R_s2a = np.zeros((len(Actions), len(States)))\n",
    "                  \n",
    "for action in Actions:\n",
    "    for state in States:\n",
    "        R_s2a[action][state] = G.get_edge_data(\n",
    "            state, StateActionPair(state, action), default={}\n",
    "        ).get('reward', 0)\n",
    "            \n",
    "            \n",
    "print(R_s2a)"
   ]
  },
  {
   "cell_type": "code",
   "execution_count": 12,
   "id": "ffb38b57",
   "metadata": {},
   "outputs": [
    {
     "execution_count": 12,
     "name": "stdout",
     "output_type": "stream",
     "text": [
      "[[[  0.   0.   0.   0.]\n",
      "  [  0.   0.   0.   0.]\n",
      "  [  0.   0.   0.   0.]\n",
      "  [  0.   0.   0.   0.]]\n",
      "\n",
      " [[  0.   0.   0.   0.]\n",
      "  [-20.   0.   0.   0.]\n",
      "  [-20.   0.   0.   0.]\n",
      "  [  0.   0.   0.   0.]]\n",
      "\n",
      " [[  0.   0.   0.   0.]\n",
      "  [  0.   0.   0.   0.]\n",
      "  [  0.   0.   0.   0.]\n",
      "  [  0.   0.   0.   0.]]]\n"
     ]
    }
   ],
   "source": [
    "R_a2s = np.zeros((len(Actions), len(States), len(States)))\n",
    "\n",
    "for action in Actions:\n",
    "    for u in States:\n",
    "        for v, data in dict(\n",
    "            G.adj.get(StateActionPair(u, action), default={})\n",
    "        ).items():\n",
    "            R_a2s[action][u][v] = data.get('reward', 0)\n",
    "            \n",
    "            \n",
    "print(R_a2s)"
   ]
  },
  {
   "cell_type": "markdown",
   "id": "5dc57744",
   "metadata": {},
   "source": [
    "## Define the Policy Evaluation function"
   ]
  },
  {
   "cell_type": "code",
   "execution_count": 13,
   "id": "870a7da0",
   "metadata": {},
   "outputs": [],
   "source": [
    "def evaluate_policy(pi, gamma, epsilon=0, max_iterations=1000):\n",
    "    v = np.zeros(len(States))\n",
    "    \n",
    "    for _ in range(max_iterations):\n",
    "        v_new = np.zeros(len(States))\n",
    "        for state in States:\n",
    "            for action in Actions:\n",
    "                s = 0\n",
    "                reward = R_s2a[action][state]\n",
    "                for next_state in States:\n",
    "                    p = P[action][state][next_state]\n",
    "                    s += p * v[next_state]\n",
    "                    reward += p * R_a2s[action][state][next_state]\n",
    "                v_new[state] += pi[action][state] * (reward + gamma * s)\n",
    "                \n",
    "        if epsilon and np.max(np.abs(v_new - v)) < epsilon:\n",
    "            break\n",
    "            \n",
    "        v = v_new\n",
    "    return v_new"
   ]
  },
  {
   "cell_type": "markdown",
   "id": "7896b287",
   "metadata": {},
   "source": [
    "## Apply Policy Iteration algorithm to find the optimal policy"
   ]
  },
  {
   "cell_type": "markdown",
   "id": "bb95085b",
   "metadata": {},
   "source": [
    "### Initialize the policy"
   ]
  },
  {
   "cell_type": "code",
   "execution_count": 14,
   "id": "1f6fbef7",
   "metadata": {},
   "outputs": [
    {
     "execution_count": 14,
     "name": "stdout",
     "output_type": "stream",
     "text": [
      "[[1. 1. 1. 1.]\n",
      " [0. 0. 0. 0.]\n",
      " [0. 0. 0. 0.]]\n"
     ]
    }
   ],
   "source": [
    "pi = np.array([\n",
    "    np.ones(len(States)) if action is Actions.GRAB else np.zeros(len(States))\n",
    "    for action in Actions\n",
    "])\n",
    "\n",
    "print(pi)"
   ]
  },
  {
   "cell_type": "code",
   "execution_count": 15,
   "id": "e7232fe4",
   "metadata": {},
   "outputs": [
    {
     "data": {
      "application/vnd.jupyter.widget-view+json": {
       "model_id": "54bc77f37f984191b88fa53058ad13e3",
       "version_major": 2,
       "version_minor": 0
      },
      "text/plain": [
       "  0%|          | 0/10000 [00:00<?, ?it/s]"
      ]
     },
     "execution_count": 15,
     "metadata": {},
     "output_type": "display_data"
    },
    {
     "execution_count": 15,
     "name": "stdout",
     "output_type": "stream",
     "text": [
      "\n",
      "Iteration: 1\n",
      "╒═══════════════════╤═════════╤══════════╕\n",
      "│ State             │   Value │ Action   │\n",
      "╞═══════════════════╪═════════╪══════════╡\n",
      "│ NOT_HOLDING_CUPS  │       0 │ DRY      │\n",
      "├───────────────────┼─────────┼──────────┤\n",
      "│ HOLDING_A_WET_CUP │       5 │ STORE    │\n",
      "├───────────────────┼─────────┼──────────┤\n",
      "│ HOLDING_A_DRY_CUP │      10 │ STORE    │\n",
      "├───────────────────┼─────────┼──────────┤\n",
      "│ JOB_DONE          │       0 │ NA       │\n",
      "╘═══════════════════╧═════════╧══════════╛\n",
      "\n",
      "Iteration: 2\n",
      "╒═══════════════════╤══════════╤══════════╕\n",
      "│ State             │    Value │ Action   │\n",
      "╞═══════════════════╪══════════╪══════════╡\n",
      "│ NOT_HOLDING_CUPS  │  7.77778 │ GRAB     │\n",
      "├───────────────────┼──────────┼──────────┤\n",
      "│ HOLDING_A_WET_CUP │  7.77778 │ DRY      │\n",
      "├───────────────────┼──────────┼──────────┤\n",
      "│ HOLDING_A_DRY_CUP │ 10       │ STORE    │\n",
      "├───────────────────┼──────────┼──────────┤\n",
      "│ JOB_DONE          │  0       │ NA       │\n",
      "╘═══════════════════╧══════════╧══════════╛\n"
     ]
    }
   ],
   "source": [
    "gamma = 1\n",
    "epsilon = 1e-5\n",
    "max_iterations = 10000\n",
    "state_values_policy_iteration = [evaluate_policy(pi, gamma)]\n",
    "\n",
    "\n",
    "for iteration in tqdm(range(1, max_iterations + 1)):\n",
    "    pi_stable = True\n",
    "    v = evaluate_policy(pi, gamma, epsilon)\n",
    "    \n",
    "    for state in States:\n",
    "        values = np.zeros(len(Actions))\n",
    "        \n",
    "        for action in Actions:\n",
    "            s = 0\n",
    "            reward = R_s2a[action][state]\n",
    "            for next_state in States:\n",
    "                p = P[action][state][next_state]\n",
    "                s += p * v[next_state]\n",
    "                reward += p * R_a2s[action][state][next_state]\n",
    "            \n",
    "            values[action] += reward + gamma * s\n",
    "            \n",
    "        best_action = values.argmax()\n",
    "        policy_action = pi.transpose()[state].argmax()\n",
    "        \n",
    "        if best_action != policy_action:\n",
    "            pi_stable = False\n",
    "            \n",
    "        pi[..., state] = np.identity(len(Actions))[best_action]\n",
    "        \n",
    "    if pi_stable:\n",
    "        break\n",
    "    \n",
    "    state_values_policy_iteration.append(evaluate_policy(pi, gamma))\n",
    "    \n",
    "    print(\"\\nIteration: \" + str(iteration))\n",
    "    print(tabulate(zip(\n",
    "        map(lambda s: s.name, States), \n",
    "        state_values_policy_iteration[-1],\n",
    "        (Actions(values.argmax()).name if not States.is_terminal(state) else \"NA\"\n",
    "         for state, values in enumerate(pi.transpose()))\n",
    "    ), headers=[\"State\", \"Value\", \"Action\"], tablefmt=\"fancy_grid\"))"
   ]
  },
  {
   "cell_type": "markdown",
   "id": "080fb818",
   "metadata": {},
   "source": [
    "## Apply Value Iteration algorithm to find the optimal policy"
   ]
  },
  {
   "cell_type": "code",
   "execution_count": 16,
   "id": "22e0343b",
   "metadata": {
    "scrolled": false
   },
   "outputs": [
    {
     "data": {
      "application/vnd.jupyter.widget-view+json": {
       "model_id": "222197efb018464c87c6414f5a1cb774",
       "version_major": 2,
       "version_minor": 0
      },
      "text/plain": [
       "  0%|          | 0/10000 [00:00<?, ?it/s]"
      ]
     },
     "execution_count": 16,
     "metadata": {},
     "output_type": "display_data"
    },
    {
     "execution_count": 16,
     "name": "stdout",
     "output_type": "stream",
     "text": [
      "\n",
      "Iteration: 1\n",
      "╒═══════════════════╤═════════╤═══════════════╕\n",
      "│ State             │   Value │ Best Action   │\n",
      "╞═══════════════════╪═════════╪═══════════════╡\n",
      "│ NOT_HOLDING_CUPS  │       0 │ GRAB          │\n",
      "├───────────────────┼─────────┼───────────────┤\n",
      "│ HOLDING_A_WET_CUP │       5 │ STORE         │\n",
      "├───────────────────┼─────────┼───────────────┤\n",
      "│ HOLDING_A_DRY_CUP │      10 │ STORE         │\n",
      "├───────────────────┼─────────┼───────────────┤\n",
      "│ JOB_DONE          │       0 │ NA            │\n",
      "╘═══════════════════╧═════════╧═══════════════╛\n",
      "\n",
      "Iteration: 2\n",
      "╒═══════════════════╤═════════╤═══════════════╕\n",
      "│ State             │   Value │ Best Action   │\n",
      "╞═══════════════════╪═════════╪═══════════════╡\n",
      "│ NOT_HOLDING_CUPS  │     5   │ GRAB          │\n",
      "├───────────────────┼─────────┼───────────────┤\n",
      "│ HOLDING_A_WET_CUP │     7.5 │ DRY           │\n",
      "├───────────────────┼─────────┼───────────────┤\n",
      "│ HOLDING_A_DRY_CUP │    10   │ STORE         │\n",
      "├───────────────────┼─────────┼───────────────┤\n",
      "│ JOB_DONE          │     0   │ NA            │\n",
      "╘═══════════════════╧═════════╧═══════════════╛\n",
      "\n",
      "Iteration: 3\n",
      "╒═══════════════════╤═════════╤═══════════════╕\n",
      "│ State             │   Value │ Best Action   │\n",
      "╞═══════════════════╪═════════╪═══════════════╡\n",
      "│ NOT_HOLDING_CUPS  │    7.5  │ GRAB          │\n",
      "├───────────────────┼─────────┼───────────────┤\n",
      "│ HOLDING_A_WET_CUP │    7.75 │ DRY           │\n",
      "├───────────────────┼─────────┼───────────────┤\n",
      "│ HOLDING_A_DRY_CUP │   10    │ STORE         │\n",
      "├───────────────────┼─────────┼───────────────┤\n",
      "│ JOB_DONE          │    0    │ NA            │\n",
      "╘═══════════════════╧═════════╧═══════════════╛\n",
      "\n",
      "Iteration: 4\n",
      "╒═══════════════════╤═════════╤═══════════════╕\n",
      "│ State             │   Value │ Best Action   │\n",
      "╞═══════════════════╪═════════╪═══════════════╡\n",
      "│ NOT_HOLDING_CUPS  │   7.75  │ GRAB          │\n",
      "├───────────────────┼─────────┼───────────────┤\n",
      "│ HOLDING_A_WET_CUP │   7.775 │ DRY           │\n",
      "├───────────────────┼─────────┼───────────────┤\n",
      "│ HOLDING_A_DRY_CUP │  10     │ STORE         │\n",
      "├───────────────────┼─────────┼───────────────┤\n",
      "│ JOB_DONE          │   0     │ NA            │\n",
      "╘═══════════════════╧═════════╧═══════════════╛\n",
      "\n",
      "Iteration: 5\n",
      "╒═══════════════════╤═════════╤═══════════════╕\n",
      "│ State             │   Value │ Best Action   │\n",
      "╞═══════════════════╪═════════╪═══════════════╡\n",
      "│ NOT_HOLDING_CUPS  │  7.775  │ GRAB          │\n",
      "├───────────────────┼─────────┼───────────────┤\n",
      "│ HOLDING_A_WET_CUP │  7.7775 │ DRY           │\n",
      "├───────────────────┼─────────┼───────────────┤\n",
      "│ HOLDING_A_DRY_CUP │ 10      │ STORE         │\n",
      "├───────────────────┼─────────┼───────────────┤\n",
      "│ JOB_DONE          │  0      │ NA            │\n",
      "╘═══════════════════╧═════════╧═══════════════╛\n",
      "\n",
      "Iteration: 6\n",
      "╒═══════════════════╤══════════╤═══════════════╕\n",
      "│ State             │    Value │ Best Action   │\n",
      "╞═══════════════════╪══════════╪═══════════════╡\n",
      "│ NOT_HOLDING_CUPS  │  7.7775  │ GRAB          │\n",
      "├───────────────────┼──────────┼───────────────┤\n",
      "│ HOLDING_A_WET_CUP │  7.77775 │ DRY           │\n",
      "├───────────────────┼──────────┼───────────────┤\n",
      "│ HOLDING_A_DRY_CUP │ 10       │ STORE         │\n",
      "├───────────────────┼──────────┼───────────────┤\n",
      "│ JOB_DONE          │  0       │ NA            │\n",
      "╘═══════════════════╧══════════╧═══════════════╛\n",
      "\n",
      "Iteration: 7\n",
      "╒═══════════════════╤══════════╤═══════════════╕\n",
      "│ State             │    Value │ Best Action   │\n",
      "╞═══════════════════╪══════════╪═══════════════╡\n",
      "│ NOT_HOLDING_CUPS  │  7.77775 │ GRAB          │\n",
      "├───────────────────┼──────────┼───────────────┤\n",
      "│ HOLDING_A_WET_CUP │  7.77778 │ DRY           │\n",
      "├───────────────────┼──────────┼───────────────┤\n",
      "│ HOLDING_A_DRY_CUP │ 10       │ STORE         │\n",
      "├───────────────────┼──────────┼───────────────┤\n",
      "│ JOB_DONE          │  0       │ NA            │\n",
      "╘═══════════════════╧══════════╧═══════════════╛\n",
      "\n",
      "Iteration: 8\n",
      "╒═══════════════════╤══════════╤═══════════════╕\n",
      "│ State             │    Value │ Best Action   │\n",
      "╞═══════════════════╪══════════╪═══════════════╡\n",
      "│ NOT_HOLDING_CUPS  │  7.77778 │ GRAB          │\n",
      "├───────────────────┼──────────┼───────────────┤\n",
      "│ HOLDING_A_WET_CUP │  7.77778 │ DRY           │\n",
      "├───────────────────┼──────────┼───────────────┤\n",
      "│ HOLDING_A_DRY_CUP │ 10       │ STORE         │\n",
      "├───────────────────┼──────────┼───────────────┤\n",
      "│ JOB_DONE          │  0       │ NA            │\n",
      "╘═══════════════════╧══════════╧═══════════════╛\n"
     ]
    }
   ],
   "source": [
    "gamma = 1\n",
    "epsilon = 1e-5\n",
    "v = np.zeros(len(States))\n",
    "max_iterations = 10000\n",
    "best_actions = []\n",
    "state_values_value_iteration = [v.copy()]\n",
    "\n",
    "\n",
    "for iteration in tqdm(range(1, max_iterations + 1)):\n",
    "    delta = 0\n",
    "    best_actions.append([])\n",
    "    for state in States:\n",
    "        values = np.zeros(len(Actions))\n",
    "        for action in Actions:\n",
    "            s = 0\n",
    "            reward = R_s2a[action][state]\n",
    "            for next_state in States:\n",
    "                p = P[action][state][next_state]\n",
    "                s += p * v[next_state]\n",
    "                reward += p * R_a2s[action][state][next_state]\n",
    "                \n",
    "            values[action] = reward + gamma * s\n",
    "        \n",
    "        delta = max(delta, np.abs(values.max() - v[state]))\n",
    "        best_actions[iteration - 1].append(values.argmax())\n",
    "        v[state] = values.max()\n",
    "    \n",
    "    if delta < epsilon:\n",
    "        break\n",
    "        \n",
    "    state_values_value_iteration.append(v.copy())\n",
    "    \n",
    "    print(\"\\nIteration: \" + str(iteration))\n",
    "    print(tabulate(zip(\n",
    "        map(lambda state: state.name, States), \n",
    "        v, \n",
    "        (Actions(action).name if not States.is_terminal(state) else \"NA\"\n",
    "         for state, action in enumerate(best_actions[-1]))\n",
    "    ), headers=[\"State\", \"Value\", \"Best Action\"], tablefmt=\"fancy_grid\"))"
   ]
  },
  {
   "cell_type": "markdown",
   "id": "7c6e01c9",
   "metadata": {},
   "source": [
    "## Apply First Visit Monte Carlo algorithm to find the optimal policy"
   ]
  },
  {
   "cell_type": "markdown",
   "id": "1c77889f",
   "metadata": {},
   "source": [
    "### Define $\\epsilon$-greedy policy and $\\epsilon$ decay schedule"
   ]
  },
  {
   "cell_type": "code",
   "execution_count": 17,
   "id": "ee4baa59",
   "metadata": {},
   "outputs": [],
   "source": [
    "def epsilon_decay_schedule(episode):\n",
    "    if episode < 10000:\n",
    "        return 1 - episode / 20000\n",
    "    else:\n",
    "        return (1 - 10000 / 20000) / (1 + episode - 10000)\n",
    "    \n",
    "def epsilon_greedy_policy(state, q_values, epsilon):\n",
    "    possible_actions = States.get_possible_actions(state)\n",
    "    if not possible_actions:\n",
    "        return Actions.STORE\n",
    "    if np.random.rand() < epsilon:\n",
    "        return np.random.choice(possible_actions)\n",
    "    else:\n",
    "        return np.argmax(q_values[state][possible_actions])"
   ]
  },
  {
   "cell_type": "markdown",
   "id": "6c7780d5",
   "metadata": {},
   "source": [
    "### Define the learning rate"
   ]
  },
  {
   "cell_type": "code",
   "execution_count": 18,
   "id": "9b541e16",
   "metadata": {},
   "outputs": [],
   "source": [
    "def alpha(state, action, n_occurences):\n",
    "    return 80 / (80 + n_occurences[state][action])"
   ]
  },
  {
   "cell_type": "code",
   "execution_count": 19,
   "id": "c994e47a",
   "metadata": {},
   "outputs": [],
   "source": [
    "def play_one_step(state, action):\n",
    "    next_state = np.random.choice(States, p=P[action][state])\n",
    "    reward = R_s2a[action][state] + R_a2s[action][state][next_state]\n",
    "    return next_state, reward"
   ]
  },
  {
   "cell_type": "code",
   "execution_count": 20,
   "id": "06614a81",
   "metadata": {
    "scrolled": false
   },
   "outputs": [
    {
     "data": {
      "application/vnd.jupyter.widget-view+json": {
       "model_id": "75a5ae21660a444cb55029d116813ba9",
       "version_major": 2,
       "version_minor": 0
      },
      "text/plain": [
       "  0%|          | 0/1000000 [00:00<?, ?it/s]"
      ]
     },
     "execution_count": 20,
     "metadata": {},
     "output_type": "display_data"
    }
   ],
   "source": [
    "gamma = 1\n",
    "max_episode_steps = 10\n",
    "max_iterations = 1_000_000\n",
    "n_occurences = np.zeros((len(States), len(Actions)))\n",
    "q_values = np.zeros((len(States), len(Actions)))\n",
    "q_values_mc = [q_values.copy()]\n",
    "\n",
    "for iteration in tqdm(range(1, max_iterations + 1)):\n",
    "    episode = []\n",
    "    delta = 0\n",
    "    state = States.NOT_HOLDING_CUPS\n",
    "    epsilon = epsilon_decay_schedule(iteration)\n",
    "    \n",
    "    while not States.is_terminal(state):\n",
    "        action = epsilon_greedy_policy(state, q_values, epsilon)\n",
    "        next_state, reward = play_one_step(state, action)\n",
    "        episode.append((state, action, reward))\n",
    "        state = next_state\n",
    "        if len(episode) > max_episode_steps:\n",
    "            break\n",
    "    \n",
    "    first_occurences = np.full(len(States.get_nonterminal()), -1)\n",
    "    for index, (state, action, _) in enumerate(episode):\n",
    "        if first_occurences[state] == -1:\n",
    "            n_occurences[state][action] += 1\n",
    "            first_occurences[state] = index\n",
    "        \n",
    "        if -1 not in first_occurences:\n",
    "            break\n",
    "    \n",
    "    for state in States.get_nonterminal():\n",
    "        if first_occurences[state] == -1:\n",
    "            continue\n",
    "            \n",
    "        action = episode[first_occurences[state]][1]\n",
    "        g = np.sum([\n",
    "            reward * (gamma ** index)\n",
    "            for index, (_, _, reward) in enumerate(episode[first_occurences[state]:])\n",
    "        ])\n",
    "        q_values[state][action] += alpha(state, action, n_occurences)\\\n",
    "                                   * (g - q_values[state][action])\n",
    "\n",
    "    q_values_mc.append(q_values.copy())"
   ]
  },
  {
   "cell_type": "code",
   "execution_count": 21,
   "id": "8b296309",
   "metadata": {},
   "outputs": [
    {
     "execution_count": 21,
     "name": "stdout",
     "output_type": "stream",
     "text": [
      "Values:\n",
      "╒═══════════════════╤══════════╤═══════════════╕\n",
      "│ State             │    Value │ Best Action   │\n",
      "╞═══════════════════╪══════════╪═══════════════╡\n",
      "│ NOT_HOLDING_CUPS  │  7.38079 │ GRAB          │\n",
      "├───────────────────┼──────────┼───────────────┤\n",
      "│ HOLDING_A_WET_CUP │  7.55382 │ DRY           │\n",
      "├───────────────────┼──────────┼───────────────┤\n",
      "│ HOLDING_A_DRY_CUP │ 10       │ STORE         │\n",
      "├───────────────────┼──────────┼───────────────┤\n",
      "│ JOB_DONE          │  0       │ NA            │\n",
      "╘═══════════════════╧══════════╧═══════════════╛\n"
     ]
    }
   ],
   "source": [
    "print(\"Values:\")\n",
    "print(tabulate(zip(\n",
    "    map(lambda state: state.name, States), \n",
    "    q_values_mc[-1].max(axis=-1), \n",
    "    (Actions(action).name if not States.is_terminal(state) else \"NA\"\n",
    "     for state, action in enumerate(q_values_mc[-1].argmax(axis=-1)))\n",
    "), headers=[\"State\", \"Value\", \"Best Action\"], tablefmt=\"fancy_grid\"))"
   ]
  },
  {
   "cell_type": "markdown",
   "id": "26ec7293",
   "metadata": {},
   "source": [
    "## Apply SARSA algorithm to find the optimal policy"
   ]
  },
  {
   "cell_type": "markdown",
   "id": "0398f73d",
   "metadata": {},
   "source": [
    "### Define the learning rate schedule"
   ]
  },
  {
   "cell_type": "code",
   "execution_count": 22,
   "id": "9fa9dc09",
   "metadata": {},
   "outputs": [],
   "source": [
    "def alpha(state, action, n_occurences):\n",
    "    return 100 / (100 + n_occurences[state][action])"
   ]
  },
  {
   "cell_type": "code",
   "execution_count": 23,
   "id": "3776dd8e",
   "metadata": {},
   "outputs": [],
   "source": [
    "def play_one_step(state, action):\n",
    "    next_state = np.random.choice(States, p=P[action][state])\n",
    "    reward = R_s2a[action][state] + R_a2s[action][state][next_state]\n",
    "    return next_state, reward"
   ]
  },
  {
   "cell_type": "code",
   "execution_count": 24,
   "id": "71270fd3",
   "metadata": {},
   "outputs": [],
   "source": [
    "def epsilon_decay_schedule(episode):\n",
    "    if episode < 50000:\n",
    "        return 1 - episode / 100000\n",
    "    else:\n",
    "        return (1 - 50000 / 100000) / np.log2(2 + episode - 50000)\n",
    "    \n",
    "def epsilon_greedy_policy(state, q_values, epsilon):\n",
    "    possible_actions = States.get_possible_actions(state)\n",
    "    if not possible_actions:\n",
    "        return Actions.STORE\n",
    "    if np.random.rand() < epsilon:\n",
    "        return np.random.choice(possible_actions)\n",
    "    else:\n",
    "        return np.argmax(q_values[state][possible_actions])"
   ]
  },
  {
   "cell_type": "code",
   "execution_count": 25,
   "id": "12ba0fb8",
   "metadata": {
    "scrolled": false
   },
   "outputs": [
    {
     "data": {
      "application/vnd.jupyter.widget-view+json": {
       "model_id": "c8784978d2794a9780561b867716af30",
       "version_major": 2,
       "version_minor": 0
      },
      "text/plain": [
       "  0%|          | 0/1000000 [00:00<?, ?it/s]"
      ]
     },
     "execution_count": 25,
     "metadata": {},
     "output_type": "display_data"
    }
   ],
   "source": [
    "gamma = 1\n",
    "max_episode_steps = 10\n",
    "max_iterations = 1_000_000\n",
    "n_occurences = np.zeros((len(States), len(Actions)))\n",
    "q_values = np.zeros((len(States), len(Actions)))\n",
    "q_values_sarsa = [q_values.copy()]\n",
    "\n",
    "\n",
    "for iteration in tqdm(range(1, max_iterations + 1)):\n",
    "    state = States.NOT_HOLDING_CUPS\n",
    "    epsilon = epsilon_decay_schedule(iteration)\n",
    "    \n",
    "    while not States.is_terminal(state):\n",
    "        action = epsilon_greedy_policy(state, q_values, epsilon)\n",
    "        next_state, reward = play_one_step(state, action)\n",
    "        next_action = epsilon_greedy_policy(next_state, q_values, epsilon)\n",
    "\n",
    "        td = reward + gamma * q_values[next_state][next_action]\\\n",
    "             - q_values[state][action]\n",
    "        q_values[state, action] += alpha(state, action, n_occurences) * td\n",
    "        \n",
    "        n_occurences[state][action] += 1\n",
    "        state = next_state\n",
    "        \n",
    "        if len(episode) > max_episode_steps:\n",
    "            break\n",
    "            \n",
    "    q_values_sarsa.append(q_values.copy())"
   ]
  },
  {
   "cell_type": "code",
   "execution_count": 26,
   "id": "7205868d",
   "metadata": {},
   "outputs": [
    {
     "execution_count": 26,
     "name": "stdout",
     "output_type": "stream",
     "text": [
      "Values:\n",
      "╒═══════════════════╤══════════╤═══════════════╕\n",
      "│ State             │    Value │ Best Action   │\n",
      "╞═══════════════════╪══════════╪═══════════════╡\n",
      "│ NOT_HOLDING_CUPS  │  7.42767 │ GRAB          │\n",
      "├───────────────────┼──────────┼───────────────┤\n",
      "│ HOLDING_A_WET_CUP │  7.62917 │ DRY           │\n",
      "├───────────────────┼──────────┼───────────────┤\n",
      "│ HOLDING_A_DRY_CUP │ 10       │ STORE         │\n",
      "├───────────────────┼──────────┼───────────────┤\n",
      "│ JOB_DONE          │  0       │ NA            │\n",
      "╘═══════════════════╧══════════╧═══════════════╛\n"
     ]
    }
   ],
   "source": [
    "print(\"Values:\")\n",
    "print(tabulate(zip(\n",
    "    map(lambda state: state.name, States), \n",
    "    q_values_sarsa[-1].max(axis=-1), \n",
    "    (Actions(action).name if not States.is_terminal(state) else \"NA\"\n",
    "     for state, action in enumerate(q_values_sarsa[-1].argmax(axis=-1)))\n",
    "), headers=[\"State\", \"Value\", \"Best Action\"], tablefmt=\"fancy_grid\"))"
   ]
  },
  {
   "cell_type": "markdown",
   "id": "e8a74920",
   "metadata": {},
   "source": [
    "## Apply Q-learning algorithm to find the optimal policy"
   ]
  },
  {
   "cell_type": "code",
   "execution_count": 27,
   "id": "b8008949",
   "metadata": {},
   "outputs": [],
   "source": [
    "def alpha(state, action, n_occurences):\n",
    "    return 40 / (40 + n_occurences[state][action])"
   ]
  },
  {
   "cell_type": "code",
   "execution_count": 28,
   "id": "ec713853",
   "metadata": {},
   "outputs": [],
   "source": [
    "def play_one_step(state, action):\n",
    "    next_state = np.random.choice(States, p=P[action][state])\n",
    "    reward = R_s2a[action][state] + R_a2s[action][state][next_state]\n",
    "    return next_state, reward"
   ]
  },
  {
   "cell_type": "code",
   "execution_count": 29,
   "id": "4f53eeac",
   "metadata": {},
   "outputs": [],
   "source": [
    "def epsilon_decay_schedule(episode):\n",
    "    if episode < 50000:\n",
    "        return 1 - episode / 100000\n",
    "    else:\n",
    "        return (1 - 50000 / 100000) / np.log2(2 + episode - 50000)\n",
    "    \n",
    "def epsilon_greedy_policy(state, q_values, epsilon):\n",
    "    possible_actions = States.get_possible_actions(state)\n",
    "    if np.random.rand() < epsilon:\n",
    "        return np.random.choice(possible_actions)\n",
    "    else:\n",
    "        return np.argmax(q_values[state][possible_actions])"
   ]
  },
  {
   "cell_type": "code",
   "execution_count": 30,
   "id": "0f7432f0",
   "metadata": {
    "scrolled": false
   },
   "outputs": [
    {
     "data": {
      "application/vnd.jupyter.widget-view+json": {
       "model_id": "4182efe26c814340b1f52c098585000b",
       "version_major": 2,
       "version_minor": 0
      },
      "text/plain": [
       "  0%|          | 0/1000000 [00:00<?, ?it/s]"
      ]
     },
     "execution_count": 30,
     "metadata": {},
     "output_type": "display_data"
    }
   ],
   "source": [
    "gamma = 1\n",
    "max_episode_steps = 10\n",
    "max_iterations = 1_000_000\n",
    "n_occurences = np.zeros((len(States), len(Actions)))\n",
    "q_values = np.zeros((len(States), len(Actions)))\n",
    "q_values_q_learning = [q_values.copy()]\n",
    "\n",
    "\n",
    "for iteration in tqdm(range(1, max_iterations + 1)):\n",
    "    state = States.NOT_HOLDING_CUPS\n",
    "    epsilon = epsilon_decay_schedule(iteration)\n",
    "    \n",
    "    while not States.is_terminal(state):\n",
    "        action = epsilon_greedy_policy(state, q_values, epsilon)\n",
    "        next_state, reward = play_one_step(state, action)\n",
    "        \n",
    "        possible_actions = States.get_possible_actions(next_state)\n",
    "        td = reward + gamma * q_values[next_state][possible_actions].max()\\\n",
    "             - q_values[state][action]\n",
    "        q_values[state, action] += alpha(state, action, n_occurences) * td\n",
    "        \n",
    "        n_occurences[state][action] += 1\n",
    "        state = next_state\n",
    "        \n",
    "        if len(episode) > max_episode_steps:\n",
    "            break\n",
    "            \n",
    "    \n",
    "    q_values_q_learning.append(q_values.copy())"
   ]
  },
  {
   "cell_type": "code",
   "execution_count": 31,
   "id": "a268ee08",
   "metadata": {},
   "outputs": [
    {
     "execution_count": 31,
     "name": "stdout",
     "output_type": "stream",
     "text": [
      "Values:\n",
      "╒═══════════════════╤══════════╤═══════════════╕\n",
      "│ State             │    Value │ Best Action   │\n",
      "╞═══════════════════╪══════════╪═══════════════╡\n",
      "│ NOT_HOLDING_CUPS  │  7.7606  │ GRAB          │\n",
      "├───────────────────┼──────────┼───────────────┤\n",
      "│ HOLDING_A_WET_CUP │  7.74474 │ DRY           │\n",
      "├───────────────────┼──────────┼───────────────┤\n",
      "│ HOLDING_A_DRY_CUP │ 10       │ STORE         │\n",
      "├───────────────────┼──────────┼───────────────┤\n",
      "│ JOB_DONE          │  0       │ NA            │\n",
      "╘═══════════════════╧══════════╧═══════════════╛\n"
     ]
    }
   ],
   "source": [
    "print(\"Values:\")\n",
    "print(tabulate(zip(\n",
    "    map(lambda state: state.name, States), \n",
    "    q_values_q_learning[-1].max(axis=-1), \n",
    "    (Actions(action).name if not States.is_terminal(state) else \"NA\"\n",
    "     for state, action in enumerate(q_values_q_learning[-1].argmax(axis=-1)))\n",
    "), headers=[\"State\", \"Value\", \"Best Action\"], tablefmt=\"fancy_grid\"))"
   ]
  },
  {
   "cell_type": "markdown",
   "id": "5819e0bc",
   "metadata": {},
   "source": [
    "## Comparison of the algorithms"
   ]
  },
  {
   "cell_type": "markdown",
   "id": "edfa5435",
   "metadata": {},
   "source": [
    "We can easily observe that policy iteration is the algorithm that takes the least iteration to converge with 3 iterations, and the value iteration algorithm follows it with 8 iterations. Therefore, we will leave them out of the following discussion.\n",
    "\n",
    "\n",
    "The other algorithms will take many iterations to converge, and they might not converge in limited number of iterations. Thus, we will observe the convergence of values using plots. We will try to see that the values will approach or oscillate around the optimal values."
   ]
  },
  {
   "cell_type": "code",
   "execution_count": 32,
   "id": "6c14d8d6",
   "metadata": {},
   "outputs": [],
   "source": [
    "def plot_best_q_values(q_values, title):\n",
    "    q_values = np.array(q_values)\n",
    "    plt.figure()\n",
    "    plt.title(title)\n",
    "    for state in States.get_nonterminal():\n",
    "        plt.plot(q_values[..., state].max(axis=-1), label=state.name)\n",
    "    plt.legend()\n",
    "    plt.show()"
   ]
  },
  {
   "cell_type": "markdown",
   "id": "38f6771c",
   "metadata": {},
   "source": [
    "Let's start with plotting the Q values as a function of episodes."
   ]
  },
  {
   "cell_type": "code",
   "execution_count": 33,
   "id": "3c4b9fb5",
   "metadata": {},
   "outputs": [
    {
     "data": {
      "image/png": "[encoded data removed]",
      "text/plain": [
       "<Figure size 432x288 with 1 Axes>"
      ]
     },
     "execution_count": 33,
     "metadata": {
      "needs_background": "light"
     },
     "output_type": "display_data"
    }
   ],
   "source": [
    "plot_best_q_values(q_values_mc, title='The Best Q Values for Monte Carlo Algorithm')"
   ]
  },
  {
   "cell_type": "code",
   "execution_count": 34,
   "id": "86d9004a",
   "metadata": {},
   "outputs": [
    {
     "data": {
      "image/png": "[encoded data removed]",
      "text/plain": [
       "<Figure size 432x288 with 1 Axes>"
      ]
     },
     "execution_count": 34,
     "metadata": {
      "needs_background": "light"
     },
     "output_type": "display_data"
    }
   ],
   "source": [
    "plot_best_q_values(q_values_mc, title='The Best Q Values for SARSA Algorithm')"
   ]
  },
  {
   "cell_type": "code",
   "execution_count": 35,
   "id": "51cd5c49",
   "metadata": {},
   "outputs": [
    {
     "data": {
      "image/png": "[encoded data removed]",
      "text/plain": [
       "<Figure size 432x288 with 1 Axes>"
      ]
     },
     "execution_count": 35,
     "metadata": {
      "needs_background": "light"
     },
     "output_type": "display_data"
    }
   ],
   "source": [
    "plot_best_q_values(q_values_mc, title='The Best Q Values for Q-Learning Algorithm')"
   ]
  },
  {
   "cell_type": "markdown",
   "id": "d49cb6a4",
   "metadata": {},
   "source": [
    "Recall that the best Q values for states are 7.77778, 7.77778 and 10, respectively, as we found in policy and value iterations. We can try to observe that the difference between the true Q values and the results the algorithms approaches to 0"
   ]
  },
  {
   "cell_type": "code",
   "execution_count": 36,
   "id": "a748e777",
   "metadata": {},
   "outputs": [],
   "source": [
    "best_q_values = [7.77778, 7.77778, 10, 0]"
   ]
  },
  {
   "cell_type": "code",
   "execution_count": 37,
   "id": "7bb4d7c5",
   "metadata": {},
   "outputs": [],
   "source": [
    "def plot_residuals(q_values, best_q_values, title):\n",
    "    q_values = np.array(q_values)\n",
    "    plt.figure()\n",
    "    plt.title(title)\n",
    "    for state in States.get_nonterminal():\n",
    "        plt.plot(q_values[..., state].max(axis=-1) - best_q_values[state], \n",
    "                 label=state.name)\n",
    "    plt.legend()\n",
    "    plt.show()"
   ]
  },
  {
   "cell_type": "code",
   "execution_count": 38,
   "id": "cd13ec09",
   "metadata": {},
   "outputs": [
    {
     "data": {
      "image/png": "[encoded data removed]",
      "text/plain": [
       "<Figure size 432x288 with 1 Axes>"
      ]
     },
     "execution_count": 38,
     "metadata": {
      "needs_background": "light"
     },
     "output_type": "display_data"
    }
   ],
   "source": [
    "plot_residuals(q_values_mc, best_q_values, 'The residuals for Monte Carlo Algorithm')"
   ]
  },
  {
   "cell_type": "code",
   "execution_count": 39,
   "id": "c8b9edcd",
   "metadata": {},
   "outputs": [
    {
     "data": {
      "image/png": "[encoded data removed]",
      "text/plain": [
       "<Figure size 432x288 with 1 Axes>"
      ]
     },
     "execution_count": 39,
     "metadata": {
      "needs_background": "light"
     },
     "output_type": "display_data"
    }
   ],
   "source": [
    "plot_residuals(q_values_mc, best_q_values, 'The residuals for SARSA Algorithm')"
   ]
  },
  {
   "cell_type": "code",
   "execution_count": 40,
   "id": "452827b0",
   "metadata": {},
   "outputs": [
    {
     "data": {
      "image/png": "[encoded data removed]",
      "text/plain": [
       "<Figure size 432x288 with 1 Axes>"
      ]
     },
     "execution_count": 40,
     "metadata": {
      "needs_background": "light"
     },
     "output_type": "display_data"
    }
   ],
   "source": [
    "plot_residuals(q_values_mc, best_q_values, 'The residuals for Q-Learning Algorithm')"
   ]
  },
  {
   "cell_type": "markdown",
   "id": "6fab1fec",
   "metadata": {},
   "source": [
    "We can observe that the results of the algorithms approach to the true Q-values. Note that with fine-tuned $\\epsilon$ schedule, policy and learning rate, it is possible to converge faster.\n",
    "\n",
    "Let's now see which one got the optimal policy faster. We will consider the first step after which the argmax of the Q values gives the optimal actions for each state."
   ]
  },
  {
   "cell_type": "code",
   "execution_count": 41,
   "id": "7d29b681",
   "metadata": {},
   "outputs": [],
   "source": [
    "optimal_policy = [Actions.GRAB, Actions.DRY, Actions.STORE, 0]"
   ]
  },
  {
   "cell_type": "code",
   "execution_count": 42,
   "id": "d6a4adc3",
   "metadata": {},
   "outputs": [],
   "source": [
    "def get_n_episodes_for_optimal_policy(q_values):\n",
    "    for episode in range(len(q_values) - 1, 0, -1):\n",
    "        optimal = [state.argmax() for state in q_values[episode]] == optimal_policy\n",
    "        if not optimal:\n",
    "            break\n",
    "    \n",
    "    return episode + 1"
   ]
  },
  {
   "cell_type": "code",
   "execution_count": 43,
   "id": "9fb268b0",
   "metadata": {},
   "outputs": [],
   "source": [
    "optimal_mc = get_n_episodes_for_optimal_policy(q_values_mc)\n",
    "optimal_sarsa = get_n_episodes_for_optimal_policy(q_values_sarsa)\n",
    "optimal_q = get_n_episodes_for_optimal_policy(q_values_q_learning)"
   ]
  },
  {
   "cell_type": "code",
   "execution_count": 44,
   "id": "03a64419",
   "metadata": {
    "scrolled": true
   },
   "outputs": [
    {
     "execution_count": 44,
     "name": "stdout",
     "output_type": "stream",
     "text": [
      "The number of episodes to obtain the optimal policy:\n",
      "╒═════════════════════════╤═══════╤════════════╕\n",
      "│ First Visit Monte Carlo │ SARSA │ Q Learning │\n",
      "├─────────────────────────┼───────┼────────────┤\n",
      "│ 62089                   │ 70435 │ 916        │\n",
      "╘═════════════════════════╧═══════╧════════════╛\n"
     ]
    }
   ],
   "source": [
    "print('The number of episodes to obtain the optimal policy:')\n",
    "print(tabulate([\n",
    "    ['First Visit Monte Carlo', 'SARSA', 'Q Learning'],\n",
    "    [optimal_mc, optimal_sarsa, optimal_q]\n",
    "], tablefmt=\"fancy_grid\"))"
   ]
  },
  {
   "cell_type": "markdown",
   "id": "706edbfb",
   "metadata": {},
   "source": [
    "We can observe that the Q-Learning algorithm significantly outperforms the other two algorithms, and the SARSA algorithm is the slowest one to converge to the optimal policy after First Visit Monte Carlo."
   ]
  },
  {
   "cell_type": "markdown",
   "id": "41091a57",
   "metadata": {},
   "source": [
    "Since we did not iterate enough to obtain the optimal Q values, we do not know which one of these algorithms will converge to the optimal values. However, by comparing the Q values produces by the algorithms in their last iterations, we can say that the Q-Learning algortihm has the closest values to the optimal ones."
   ]
  },
  {
   "cell_type": "markdown",
   "id": "87426d4c",
   "metadata": {},
   "source": [
    "## Which of the above methods should I use to find an optimal policy if I didn’t know the probability of breaking cups during drying?"
   ]
  },
  {
   "cell_type": "markdown",
   "id": "30f8306c",
   "metadata": {},
   "source": [
    "If we did not know the transition probabilities, we would need a model-free algorithms. This means that we cannot use value iteration and policy iteration algorithms. Thus, the best option would be the Q-Learning algorithm since we observed that the Q-Learning algorithm converged to the optimal policy faster than the other two model-free algorithms."
   ]
  },
  {
   "cell_type": "markdown",
   "id": "a2d0bcbf",
   "metadata": {},
   "source": [
    "## What is the effect of increasing ε while using an ε-greedy algorithm?"
   ]
  },
  {
   "cell_type": "markdown",
   "id": "0de4a023",
   "metadata": {},
   "source": [
    "The $\\epsilon$ in an $\\epsilon$-greedy policy determines the probability of choosing a random action instead of the one with the highest Q-value. In other words, the $\\epsilon$ value is the probability of exploring other actions instead of exploiting our current knowledge. We thus can obtain a better solution that we do not currently know. If we increase the $\\epsilon$ while using an $\\epsilon$-greedy algorithm, we increase the probability of choosing a random action and exploring other options."
   ]
  }
 ],
 "metadata": {
  "kernelspec": {
   "display_name": "Python 3 (ipykernel)",
   "language": "python",
   "name": "python3"
  },
  "language_info": {
   "codemirror_mode": {
    "name": "ipython",
    "version": 3
   },
   "file_extension": ".py",
   "mimetype": "text/x-python",
   "name": "python",
   "nbconvert_exporter": "python",
   "pygments_lexer": "ipython3",
   "version": "3.8.8"
  }
 },
 "nbformat": 4,
 "nbformat_minor": 5
}

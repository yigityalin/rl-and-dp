{
 "cells": [
  {
   "cell_type": "markdown",
   "id": "bcc05aee",
   "metadata": {},
   "source": [
    "## Author"
   ]
  },
  {
   "cell_type": "markdown",
   "id": "a302ac8e",
   "metadata": {},
   "source": [
    "**Full Name: Yiğit Yalın**\n",
    "\n",
    "**Student ID: 22002178**"
   ]
  },
  {
   "cell_type": "markdown",
   "id": "86a43343",
   "metadata": {},
   "source": [
    "### Importing the required libraries"
   ]
  },
  {
   "cell_type": "code",
   "execution_count": 1,
   "id": "5a46baa7",
   "metadata": {},
   "outputs": [],
   "source": [
    "from enum import IntEnum\n",
    "from itertools import count\n",
    "from tabulate import tabulate\n",
    "from typing import Union\n",
    "\n",
    "import numpy as np\n",
    "import matplotlib.pyplot as plt\n",
    "%matplotlib inline\n",
    "\n",
    "np.set_printoptions(precision=5)"
   ]
  },
  {
   "cell_type": "markdown",
   "id": "ed22311b",
   "metadata": {},
   "source": [
    "# Question 1"
   ]
  },
  {
   "cell_type": "markdown",
   "id": "5f334ce0",
   "metadata": {},
   "source": [
    "## Enumerating the States"
   ]
  },
  {
   "cell_type": "code",
   "execution_count": 2,
   "id": "54b3ac8d",
   "metadata": {},
   "outputs": [],
   "source": [
    "class States(IntEnum):\n",
    "    FIRST_CIGARETTE = 0\n",
    "    MEET_FRIENDS = 1\n",
    "    COFFEE = 2\n",
    "    ANOTHER_CIGARETTE = 3\n",
    "    LAST_CIGARETTE = 4\n",
    "    SLEEP = 5"
   ]
  },
  {
   "cell_type": "markdown",
   "id": "acaa7eee",
   "metadata": {},
   "source": [
    "## Constructing the reward vector"
   ]
  },
  {
   "cell_type": "code",
   "execution_count": 3,
   "id": "70f54e14",
   "metadata": {},
   "outputs": [
    {
     "name": "stdout",
     "output_type": "stream",
     "text": [
      "╒═══════════════════╤══════════╕\n",
      "│ State             │   Reward │\n",
      "╞═══════════════════╪══════════╡\n",
      "│ FIRST_CIGARETTE   │        1 │\n",
      "├───────────────────┼──────────┤\n",
      "│ MEET_FRIENDS      │        1 │\n",
      "├───────────────────┼──────────┤\n",
      "│ COFFEE            │        2 │\n",
      "├───────────────────┼──────────┤\n",
      "│ ANOTHER_CIGARETTE │        1 │\n",
      "├───────────────────┼──────────┤\n",
      "│ LAST_CIGARETTE    │       -3 │\n",
      "├───────────────────┼──────────┤\n",
      "│ SLEEP             │        0 │\n",
      "╘═══════════════════╧══════════╛\n"
     ]
    }
   ],
   "source": [
    "R = np.array([1, 1, 2, 1, -3, 0])\n",
    "\n",
    "print(tabulate(zip(map(lambda state: state.name, States), R), \n",
    "               headers=[\"State\", \"Reward\"], tablefmt=\"fancy_grid\"))"
   ]
  },
  {
   "cell_type": "markdown",
   "id": "44d536c4",
   "metadata": {},
   "source": [
    "## Constructing the One-Step Transition Matrix"
   ]
  },
  {
   "cell_type": "code",
   "execution_count": 4,
   "id": "702e7404",
   "metadata": {},
   "outputs": [
    {
     "name": "stdout",
     "output_type": "stream",
     "text": [
      "[[0.  0.6 0.3 0.  0.  0.1]\n",
      " [0.  0.  0.4 0.4 0.1 0.1]\n",
      " [0.  0.  0.  0.7 0.  0.3]\n",
      " [0.  0.  0.  0.6 0.3 0.1]\n",
      " [0.  0.  0.  0.  0.  1. ]\n",
      " [0.  0.  0.  0.  0.  1. ]]\n"
     ]
    }
   ],
   "source": [
    "P = np.array([\n",
    "    [0, 0.6, 0.3, 0, 0, 0.1],\n",
    "    [0, 0, 0.4, 0.4, 0.1, 0.1],\n",
    "    [0, 0, 0, 0.7, 0, 0.3],\n",
    "    [0, 0, 0, 0.6, 0.3, 0.1],\n",
    "    [0, 0, 0, 0, 0, 1],\n",
    "    [0, 0, 0, 0, 0, 1]\n",
    "])\n",
    "\n",
    "print(P)"
   ]
  },
  {
   "cell_type": "markdown",
   "id": "bf00fba9",
   "metadata": {},
   "source": [
    "## Finding the stationary probability distribution"
   ]
  },
  {
   "cell_type": "markdown",
   "id": "d2c031b0",
   "metadata": {},
   "source": [
    "The stationary probability distribution has to satisfy the following equation:\n",
    "\n",
    "$$\\pi = \\pi P$$\n",
    "\n",
    "* $\\pi$ is the stationary distribution which is a (1 x 6) matrix.\n",
    "* $P$ is the one step transition matrix which is a (6 x 6) matrix."
   ]
  },
  {
   "cell_type": "markdown",
   "id": "ce5abaae",
   "metadata": {},
   "source": [
    "In general, we obtain the stationary probability distribution by solving the equation $\\pi = \\pi P$. However, in this case, we already know that Sleep is the terminal state, and we can use this information to predict the stationary distribution.\n",
    "\n",
    "Consider the following distribution:\n",
    "\n",
    "$$\n",
    "\\pi = \\begin{bmatrix}\n",
    "0 & 0 & 0 & 0 & 0 & 1\n",
    "\\end{bmatrix}\n",
    "$$\n",
    "\n",
    "Let's see whether this distribution satisfies the equation $\\pi = \\pi P$."
   ]
  },
  {
   "cell_type": "code",
   "execution_count": 5,
   "id": "7b52fff6",
   "metadata": {},
   "outputs": [
    {
     "name": "stdout",
     "output_type": "stream",
     "text": [
      "[0. 0. 0. 0. 0. 1.]\n"
     ]
    }
   ],
   "source": [
    "pi = np.array([0., 0., 0., 0., 0., 1.])\n",
    "\n",
    "print(pi)"
   ]
  },
  {
   "cell_type": "code",
   "execution_count": 6,
   "id": "5b35f581",
   "metadata": {},
   "outputs": [
    {
     "name": "stdout",
     "output_type": "stream",
     "text": [
      "[0. 0. 0. 0. 0. 1.]\n"
     ]
    }
   ],
   "source": [
    "print(pi @ P)"
   ]
  },
  {
   "cell_type": "code",
   "execution_count": 7,
   "id": "faeaea75",
   "metadata": {},
   "outputs": [
    {
     "data": {
      "text/plain": [
       "True"
      ]
     },
     "execution_count": 7,
     "metadata": {},
     "output_type": "execute_result"
    }
   ],
   "source": [
    "all(np.equal(pi, pi @ P))"
   ]
  },
  {
   "cell_type": "markdown",
   "id": "4b25173e",
   "metadata": {},
   "source": [
    "Hence, the stationary distribution is:\n",
    "\n",
    "$$\n",
    "\\pi = \\begin{bmatrix}\n",
    "0 & 0 & 0 & 0 & 0 & 1\n",
    "\\end{bmatrix}\n",
    "$$"
   ]
  },
  {
   "cell_type": "markdown",
   "id": "46b74004",
   "metadata": {},
   "source": [
    "## Finding the state values"
   ]
  },
  {
   "cell_type": "markdown",
   "id": "86e364c9",
   "metadata": {},
   "source": [
    "The state value function of state is given as follows:\n",
    "\n",
    "$$v(s) = \\mathbf{E}[R_{t+1} + \\gamma v(S_{t+1})| S_t = s] $$\n",
    "\n",
    "This is equivalent to the following:\n",
    "\n",
    "$$v(s) = R_s + \\gamma \\sum \\limits_{s^\\prime \\in S} P_{ss^\\prime} v(s^\\prime)$$\n",
    "\n",
    "In a vectorized form,\n",
    "\n",
    "$$v = R + \\gamma P v$$\n",
    "\n",
    "Then, we can obtain v by solving this system of linear equations as follows:\n",
    "\n",
    "$$v = (I_6 - \\gamma P)^{-1}R$$\n",
    "\n",
    "* $v$ is a (6 x 1) matrix with the values of each state\n",
    "* $I_6$ is the (6 x 6) identity matrix.\n",
    "* $R$ is a (6 x 1) matrix with the immediate rewards of the states"
   ]
  },
  {
   "cell_type": "markdown",
   "id": "a9b412da",
   "metadata": {},
   "source": [
    "### The following code pieces calculate the state values for discount factor $\\gamma = 0.1$ using different methods."
   ]
  },
  {
   "cell_type": "markdown",
   "id": "eebdf09c",
   "metadata": {},
   "source": [
    "**This code piece calculates the state values for discount factor $\\gamma = 0.1$ by solving the system of linear equations.**"
   ]
  },
  {
   "cell_type": "code",
   "execution_count": 8,
   "id": "f1964cd1",
   "metadata": {
    "scrolled": true
   },
   "outputs": [
    {
     "name": "stdout",
     "output_type": "stream",
     "text": [
      "╒═══════════════════╤═══════════╕\n",
      "│ State             │     Value │\n",
      "╞═══════════════════╪═══════════╡\n",
      "│ FIRST_CIGARETTE   │  1.12752  │\n",
      "├───────────────────┼───────────┤\n",
      "│ MEET_FRIENDS      │  1.09143  │\n",
      "├───────────────────┼───────────┤\n",
      "│ COFFEE            │  2.06777  │\n",
      "├───────────────────┼───────────┤\n",
      "│ ANOTHER_CIGARETTE │  0.968085 │\n",
      "├───────────────────┼───────────┤\n",
      "│ LAST_CIGARETTE    │ -3        │\n",
      "├───────────────────┼───────────┤\n",
      "│ SLEEP             │  0        │\n",
      "╘═══════════════════╧═══════════╛\n"
     ]
    }
   ],
   "source": [
    "gamma = 0.1  # the discount factor is 0.1\n",
    "v = np.linalg.inv(np.identity(6) - gamma * P) @ R\n",
    "\n",
    "print(tabulate(zip(map(lambda state: state.name, States), v), \n",
    "               headers=[\"State\", \"Value\"], tablefmt=\"fancy_grid\"))"
   ]
  },
  {
   "cell_type": "markdown",
   "id": "b3b81eee",
   "metadata": {},
   "source": [
    "**This code piece calculates the state values for discount factor $\\gamma = 0.1$ using dynamic programming.**"
   ]
  },
  {
   "cell_type": "code",
   "execution_count": 9,
   "id": "612569e7",
   "metadata": {},
   "outputs": [
    {
     "name": "stdout",
     "output_type": "stream",
     "text": [
      "╒═══════════════════╤═══════════╕\n",
      "│ State             │     Value │\n",
      "╞═══════════════════╪═══════════╡\n",
      "│ FIRST_CIGARETTE   │  1.12752  │\n",
      "├───────────────────┼───────────┤\n",
      "│ MEET_FRIENDS      │  1.09143  │\n",
      "├───────────────────┼───────────┤\n",
      "│ COFFEE            │  2.06777  │\n",
      "├───────────────────┼───────────┤\n",
      "│ ANOTHER_CIGARETTE │  0.968085 │\n",
      "├───────────────────┼───────────┤\n",
      "│ LAST_CIGARETTE    │ -3        │\n",
      "├───────────────────┼───────────┤\n",
      "│ SLEEP             │  0        │\n",
      "╘═══════════════════╧═══════════╛\n"
     ]
    }
   ],
   "source": [
    "gamma = 0.1\n",
    "\n",
    "v = np.zeros(6)\n",
    "\n",
    "for _ in range(1000):\n",
    "    v_new = np.zeros(6)\n",
    "    for state in States:\n",
    "        v_new[state] += R[state]\n",
    "        s = np.sum([P[state][next_state] * v[next_state] for next_state in States])\n",
    "        v_new[state] += s * gamma\n",
    "    v = v_new\n",
    "\n",
    "print(tabulate(zip(map(lambda state: state.name, States), v), \n",
    "               headers=[\"State\", \"Value\"], tablefmt=\"fancy_grid\"))"
   ]
  },
  {
   "cell_type": "markdown",
   "id": "3ffaba72",
   "metadata": {},
   "source": [
    "### The following code pieces calculate the state values for discount factor $\\gamma = 0.9$ using different methods."
   ]
  },
  {
   "cell_type": "markdown",
   "id": "9ab7505a",
   "metadata": {},
   "source": [
    "**This code piece calculates the state values for discount factor $\\gamma = 0.9$ by solving the system of linear equations.**"
   ]
  },
  {
   "cell_type": "code",
   "execution_count": 10,
   "id": "ab707540",
   "metadata": {},
   "outputs": [
    {
     "name": "stdout",
     "output_type": "stream",
     "text": [
      "╒═══════════════════╤═══════════╕\n",
      "│ State             │     Value │\n",
      "╞═══════════════════╪═══════════╡\n",
      "│ FIRST_CIGARETTE   │  2.52414  │\n",
      "├───────────────────┼───────────┤\n",
      "│ MEET_FRIENDS      │  1.69237  │\n",
      "├───────────────────┼───────────┤\n",
      "│ COFFEE            │  2.26022  │\n",
      "├───────────────────┼───────────┤\n",
      "│ ANOTHER_CIGARETTE │  0.413043 │\n",
      "├───────────────────┼───────────┤\n",
      "│ LAST_CIGARETTE    │ -3        │\n",
      "├───────────────────┼───────────┤\n",
      "│ SLEEP             │  0        │\n",
      "╘═══════════════════╧═══════════╛\n"
     ]
    }
   ],
   "source": [
    "gamma = 0.9  # the discount factor is 0.9\n",
    "v = np.linalg.inv(np.identity(6) - gamma * P) @ R\n",
    "\n",
    "print(tabulate(zip(map(lambda state: state.name, States), v), \n",
    "               headers=[\"State\", \"Value\"], tablefmt=\"fancy_grid\"))"
   ]
  },
  {
   "cell_type": "markdown",
   "id": "6f23a726",
   "metadata": {},
   "source": [
    "**This code piece calculates the state values for discount factor $\\gamma = 0.9$ using dynamic programming.**"
   ]
  },
  {
   "cell_type": "code",
   "execution_count": 11,
   "id": "7c1d71ce",
   "metadata": {},
   "outputs": [
    {
     "name": "stdout",
     "output_type": "stream",
     "text": [
      "╒═══════════════════╤═══════════╕\n",
      "│ State             │     Value │\n",
      "╞═══════════════════╪═══════════╡\n",
      "│ FIRST_CIGARETTE   │  2.52414  │\n",
      "├───────────────────┼───────────┤\n",
      "│ MEET_FRIENDS      │  1.69237  │\n",
      "├───────────────────┼───────────┤\n",
      "│ COFFEE            │  2.26022  │\n",
      "├───────────────────┼───────────┤\n",
      "│ ANOTHER_CIGARETTE │  0.413043 │\n",
      "├───────────────────┼───────────┤\n",
      "│ LAST_CIGARETTE    │ -3        │\n",
      "├───────────────────┼───────────┤\n",
      "│ SLEEP             │  0        │\n",
      "╘═══════════════════╧═══════════╛\n"
     ]
    }
   ],
   "source": [
    "gamma = 0.9\n",
    "\n",
    "v = np.zeros(6)\n",
    "\n",
    "for _ in range(1000):\n",
    "    v_new = np.zeros(6)\n",
    "    for state in States:\n",
    "        v_new[state] += R[state]\n",
    "        s = np.sum([P[state][next_state] * v[next_state] for next_state in States])\n",
    "        v_new[state] += s * gamma\n",
    "    v = v_new\n",
    "\n",
    "print(tabulate(zip(map(lambda state: state.name, States), v), \n",
    "               headers=[\"State\", \"Value\"], tablefmt=\"fancy_grid\"))"
   ]
  },
  {
   "cell_type": "markdown",
   "id": "340a6b75",
   "metadata": {},
   "source": [
    "We can easily observe that the state \"Coffee\" has the highest value for discount factor $\\gamma = 0.1$ whereas the state \"First Cigarette\" has the highest value for discount factor $\\gamma = 0.9$.\n",
    "\n",
    "For lower discount factors such as 0.1, the delayed rewards have less impact on the state values.\n",
    "\n",
    "Let's recall the rewards:"
   ]
  },
  {
   "cell_type": "code",
   "execution_count": 12,
   "id": "e2c7364c",
   "metadata": {},
   "outputs": [
    {
     "name": "stdout",
     "output_type": "stream",
     "text": [
      "╒═══════════════════╤══════════╕\n",
      "│ State             │   Reward │\n",
      "╞═══════════════════╪══════════╡\n",
      "│ FIRST_CIGARETTE   │        1 │\n",
      "├───────────────────┼──────────┤\n",
      "│ MEET_FRIENDS      │        1 │\n",
      "├───────────────────┼──────────┤\n",
      "│ COFFEE            │        2 │\n",
      "├───────────────────┼──────────┤\n",
      "│ ANOTHER_CIGARETTE │        1 │\n",
      "├───────────────────┼──────────┤\n",
      "│ LAST_CIGARETTE    │       -3 │\n",
      "├───────────────────┼──────────┤\n",
      "│ SLEEP             │        0 │\n",
      "╘═══════════════════╧══════════╛\n"
     ]
    }
   ],
   "source": [
    "print(tabulate(zip(map(lambda state: state.name, States), R), \n",
    "               headers=[\"State\", \"Reward\"], tablefmt=\"fancy_grid\"))"
   ]
  },
  {
   "cell_type": "markdown",
   "id": "be985ac7",
   "metadata": {},
   "source": [
    "For discount factor $\\gamma = 0.1$, the state \"Coffee\" has the highest value. This is because it has the highest immediate reward and the later states have low effect on the state value due to the low discount factor. However, when discount factor $\\gamma = 0.9$, the state \"First Cigarette\" has the highest value since the value of the state \"First Cigarette\" embodies the weighted sum of discounted values of later states (recall the state value equation), and due to the high discount factor, the delayed rewards have high impact on the state value."
   ]
  },
  {
   "cell_type": "markdown",
   "id": "261dc340",
   "metadata": {},
   "source": [
    "# Question 2"
   ]
  },
  {
   "cell_type": "markdown",
   "id": "2893aac2",
   "metadata": {},
   "source": [
    "## Enumerating the states"
   ]
  },
  {
   "cell_type": "code",
   "execution_count": 13,
   "id": "e6d2eaad",
   "metadata": {},
   "outputs": [],
   "source": [
    "class States(IntEnum):\n",
    "    DEPRESSED = 0\n",
    "    SLEEP = 1\n",
    "    MORE_SLEEP = 2\n",
    "    FITNESS_RECOVERY = 3\n",
    "    TENNIS_PRACTICE = 4\n",
    "    WIN_THE_MATCH = 5"
   ]
  },
  {
   "cell_type": "markdown",
   "id": "c6fe34d2",
   "metadata": {},
   "source": [
    "## Enumerating the actions"
   ]
  },
  {
   "cell_type": "code",
   "execution_count": 14,
   "id": "85f4222f",
   "metadata": {},
   "outputs": [],
   "source": [
    "class Actions(IntEnum):\n",
    "    ACTIVE = 0\n",
    "    PASSIVE = 1"
   ]
  },
  {
   "cell_type": "markdown",
   "id": "9f9ade12",
   "metadata": {},
   "source": [
    "## Constructing the reward vector"
   ]
  },
  {
   "cell_type": "code",
   "execution_count": 15,
   "id": "e9119428",
   "metadata": {},
   "outputs": [
    {
     "name": "stdout",
     "output_type": "stream",
     "text": [
      "╒══════════════════╤══════════╕\n",
      "│ State            │   Reward │\n",
      "╞══════════════════╪══════════╡\n",
      "│ DEPRESSED        │       -1 │\n",
      "├──────────────────┼──────────┤\n",
      "│ SLEEP            │       -1 │\n",
      "├──────────────────┼──────────┤\n",
      "│ MORE_SLEEP       │       -1 │\n",
      "├──────────────────┼──────────┤\n",
      "│ FITNESS_RECOVERY │       -1 │\n",
      "├──────────────────┼──────────┤\n",
      "│ TENNIS_PRACTICE  │       -1 │\n",
      "├──────────────────┼──────────┤\n",
      "│ WIN_THE_MATCH    │        0 │\n",
      "╘══════════════════╧══════════╛\n"
     ]
    }
   ],
   "source": [
    "R = np.array([-1, -1, -1, -1, -1, 0])\n",
    "\n",
    "print(tabulate(zip(map(lambda state: state.name, States), R), \n",
    "               headers=[\"State\", \"Reward\"], tablefmt=\"fancy_grid\"))"
   ]
  },
  {
   "cell_type": "markdown",
   "id": "0e967239",
   "metadata": {},
   "source": [
    "## Constructing the One-Step Transition Matrix for each action"
   ]
  },
  {
   "cell_type": "markdown",
   "id": "7c386a58",
   "metadata": {},
   "source": [
    "**The one-step transition matrix for the action \"Active\"**:"
   ]
  },
  {
   "cell_type": "code",
   "execution_count": 16,
   "id": "d3b09678",
   "metadata": {},
   "outputs": [
    {
     "name": "stdout",
     "output_type": "stream",
     "text": [
      "[[0.7 0.  0.  0.3 0.  0. ]\n",
      " [0.  0.  0.4 0.6 0.  0. ]\n",
      " [0.  0.  0.5 0.  0.5 0. ]\n",
      " [0.  0.  0.  0.  1.  0. ]\n",
      " [0.  0.  0.  0.  0.1 0.9]\n",
      " [0.  0.  0.  0.  0.  1. ]]\n"
     ]
    }
   ],
   "source": [
    "P_active = np.array([\n",
    "    [0.7, 0, 0, 0.3, 0, 0],\n",
    "    [0, 0, 0.4, 0.6, 0, 0],\n",
    "    [0, 0, 0.5, 0, 0.5, 0],\n",
    "    [0, 0, 0, 0, 1, 0],\n",
    "    [0, 0, 0, 0, 0.1, 0.9],\n",
    "    [0, 0, 0, 0, 0, 1]\n",
    "])\n",
    "\n",
    "print(P_active)"
   ]
  },
  {
   "cell_type": "markdown",
   "id": "858ec873",
   "metadata": {},
   "source": [
    "**The one-step transition matrix for the action \"Passive\"**:"
   ]
  },
  {
   "cell_type": "code",
   "execution_count": 17,
   "id": "24f65b1d",
   "metadata": {},
   "outputs": [
    {
     "name": "stdout",
     "output_type": "stream",
     "text": [
      "[[0.  1.  0.  0.  0.  0. ]\n",
      " [0.  0.  1.  0.  0.  0. ]\n",
      " [0.  0.  1.  0.  0.  0. ]\n",
      " [0.  0.  0.  0.  0.8 0.2]\n",
      " [0.  0.  1.  0.  0.  0. ]\n",
      " [0.  0.  0.  0.  0.  1. ]]\n"
     ]
    }
   ],
   "source": [
    "P_passive = np.array([\n",
    "    [0, 1, 0, 0, 0, 0],\n",
    "    [0, 0, 1, 0, 0, 0],\n",
    "    [0, 0, 1, 0, 0, 0],\n",
    "    [0, 0, 0, 0, 0.8, 0.2],\n",
    "    [0, 0, 1, 0, 0, 0],\n",
    "    [0, 0, 0, 0, 0, 1]\n",
    "])\n",
    "\n",
    "print(P_passive)"
   ]
  },
  {
   "cell_type": "markdown",
   "id": "deaf9ebd",
   "metadata": {},
   "source": [
    "The following code piece is an implementation detail. P is the concatenation of matrices P_active and P_passive."
   ]
  },
  {
   "cell_type": "code",
   "execution_count": 18,
   "id": "8a7506a7",
   "metadata": {
    "scrolled": true
   },
   "outputs": [
    {
     "name": "stdout",
     "output_type": "stream",
     "text": [
      "One-step transition matrix for the action \"Active\":\n",
      "[[0.7 0.  0.  0.3 0.  0. ]\n",
      " [0.  0.  0.4 0.6 0.  0. ]\n",
      " [0.  0.  0.5 0.  0.5 0. ]\n",
      " [0.  0.  0.  0.  1.  0. ]\n",
      " [0.  0.  0.  0.  0.1 0.9]\n",
      " [0.  0.  0.  0.  0.  1. ]]\n",
      "\n",
      "One-step transition matrix for the action \"Passive\":\n",
      "[[0.  1.  0.  0.  0.  0. ]\n",
      " [0.  0.  1.  0.  0.  0. ]\n",
      " [0.  0.  1.  0.  0.  0. ]\n",
      " [0.  0.  0.  0.  0.8 0.2]\n",
      " [0.  0.  1.  0.  0.  0. ]\n",
      " [0.  0.  0.  0.  0.  1. ]]\n"
     ]
    }
   ],
   "source": [
    "P = np.concatenate([P_active[np.newaxis, ...], P_passive[np.newaxis, ...]], axis=0)\n",
    "\n",
    "print('One-step transition matrix for the action \"Active\":', P[Actions.ACTIVE], '', \n",
    "      'One-step transition matrix for the action \"Passive\":', P[Actions.PASSIVE], sep=\"\\n\")"
   ]
  },
  {
   "cell_type": "markdown",
   "id": "0b9b9c4c",
   "metadata": {},
   "source": [
    "## Finding the state values"
   ]
  },
  {
   "cell_type": "markdown",
   "id": "e3446cc1",
   "metadata": {},
   "source": [
    "The state value function of state is given as follows:\n",
    "\n",
    "$$v(s) = \\mathbf{E}[R_{t+1} + \\gamma v(S_{t+1})| S_t = s] $$\n",
    "\n",
    "This is equivalent to the following:\n",
    "\n",
    "$$v(s) = R_s + \\gamma \\sum \\limits_{s^\\prime \\in S} P_{ss^\\prime} v(s^\\prime)$$"
   ]
  },
  {
   "cell_type": "markdown",
   "id": "d1213b97",
   "metadata": {},
   "source": [
    "### The following code pieces calculate the state values for different policies discount factor $\\gamma = 0.9$ using different methods."
   ]
  },
  {
   "cell_type": "markdown",
   "id": "37891fb9",
   "metadata": {},
   "source": [
    "**This code piece calculates the state values for \"Active\" policy by solving the system of linear equations.**"
   ]
  },
  {
   "cell_type": "code",
   "execution_count": 19,
   "id": "cf5ae1bf",
   "metadata": {},
   "outputs": [
    {
     "name": "stdout",
     "output_type": "stream",
     "text": [
      "╒══════════════════╤══════════╕\n",
      "│ State            │    Value │\n",
      "╞══════════════════╪══════════╡\n",
      "│ DEPRESSED        │ -4.15414 │\n",
      "├──────────────────┼──────────┤\n",
      "│ SLEEP            │ -3.05229 │\n",
      "├──────────────────┼──────────┤\n",
      "│ MORE_SLEEP       │ -2.71728 │\n",
      "├──────────────────┼──────────┤\n",
      "│ FITNESS_RECOVERY │ -1.98901 │\n",
      "├──────────────────┼──────────┤\n",
      "│ TENNIS_PRACTICE  │ -1.0989  │\n",
      "├──────────────────┼──────────┤\n",
      "│ WIN_THE_MATCH    │  0       │\n",
      "╘══════════════════╧══════════╛\n"
     ]
    }
   ],
   "source": [
    "gamma = 0.9  # the discount factor is 0.9\n",
    "v = np.linalg.inv(np.identity(6) - gamma * P[Actions.ACTIVE]) @ R\n",
    "\n",
    "print(tabulate(zip(map(lambda state: state.name, States), v), \n",
    "               headers=[\"State\", \"Value\"], tablefmt=\"fancy_grid\"))"
   ]
  },
  {
   "cell_type": "markdown",
   "id": "0d8c7dd0",
   "metadata": {},
   "source": [
    "**This code piece calculates the state values for \"Active\" policy by dynamic programming.**"
   ]
  },
  {
   "cell_type": "code",
   "execution_count": 20,
   "id": "66811fd4",
   "metadata": {},
   "outputs": [
    {
     "name": "stdout",
     "output_type": "stream",
     "text": [
      "╒══════════════════╤══════════╕\n",
      "│ State            │    Value │\n",
      "╞══════════════════╪══════════╡\n",
      "│ DEPRESSED        │ -4.15414 │\n",
      "├──────────────────┼──────────┤\n",
      "│ SLEEP            │ -3.05229 │\n",
      "├──────────────────┼──────────┤\n",
      "│ MORE_SLEEP       │ -2.71728 │\n",
      "├──────────────────┼──────────┤\n",
      "│ FITNESS_RECOVERY │ -1.98901 │\n",
      "├──────────────────┼──────────┤\n",
      "│ TENNIS_PRACTICE  │ -1.0989  │\n",
      "├──────────────────┼──────────┤\n",
      "│ WIN_THE_MATCH    │  0       │\n",
      "╘══════════════════╧══════════╛\n"
     ]
    }
   ],
   "source": [
    "gamma = 0.9\n",
    "\n",
    "v = np.zeros(6)\n",
    "\n",
    "for _ in range(1000):\n",
    "    v_new = np.zeros(6)\n",
    "    for state in States:\n",
    "        v_new[state] += R[state]\n",
    "        s = np.sum([P[Actions.ACTIVE][state][next_state] * v[next_state] for next_state in States])\n",
    "        v_new[state] += s * gamma\n",
    "    v = v_new\n",
    "\n",
    "print(tabulate(zip(map(lambda state: state.name, States), v), \n",
    "               headers=[\"State\", \"Value\"], tablefmt=\"fancy_grid\"))"
   ]
  },
  {
   "cell_type": "markdown",
   "id": "32ecb95c",
   "metadata": {},
   "source": [
    "**This code piece calculates the state values for \"Passive\" policy by solving the system of linear equations.**"
   ]
  },
  {
   "cell_type": "code",
   "execution_count": 21,
   "id": "2d5faac9",
   "metadata": {},
   "outputs": [
    {
     "name": "stdout",
     "output_type": "stream",
     "text": [
      "╒══════════════════╤═════════╕\n",
      "│ State            │   Value │\n",
      "╞══════════════════╪═════════╡\n",
      "│ DEPRESSED        │   -10   │\n",
      "├──────────────────┼─────────┤\n",
      "│ SLEEP            │   -10   │\n",
      "├──────────────────┼─────────┤\n",
      "│ MORE_SLEEP       │   -10   │\n",
      "├──────────────────┼─────────┤\n",
      "│ FITNESS_RECOVERY │    -8.2 │\n",
      "├──────────────────┼─────────┤\n",
      "│ TENNIS_PRACTICE  │   -10   │\n",
      "├──────────────────┼─────────┤\n",
      "│ WIN_THE_MATCH    │     0   │\n",
      "╘══════════════════╧═════════╛\n"
     ]
    }
   ],
   "source": [
    "gamma = 0.9  # the discount factor is 0.9\n",
    "v = np.linalg.inv(np.identity(6) - gamma * P[Actions.PASSIVE]) @ R\n",
    "\n",
    "print(tabulate(zip(map(lambda state: state.name, States), v), \n",
    "               headers=[\"State\", \"Value\"], tablefmt=\"fancy_grid\"))"
   ]
  },
  {
   "cell_type": "markdown",
   "id": "0f689865",
   "metadata": {},
   "source": [
    "**This code piece calculates the state values for \"Passive\" policy by dynamic programming.**"
   ]
  },
  {
   "cell_type": "code",
   "execution_count": 22,
   "id": "93a8dcd4",
   "metadata": {},
   "outputs": [
    {
     "name": "stdout",
     "output_type": "stream",
     "text": [
      "╒══════════════════╤═════════╕\n",
      "│ State            │   Value │\n",
      "╞══════════════════╪═════════╡\n",
      "│ DEPRESSED        │   -10   │\n",
      "├──────────────────┼─────────┤\n",
      "│ SLEEP            │   -10   │\n",
      "├──────────────────┼─────────┤\n",
      "│ MORE_SLEEP       │   -10   │\n",
      "├──────────────────┼─────────┤\n",
      "│ FITNESS_RECOVERY │    -8.2 │\n",
      "├──────────────────┼─────────┤\n",
      "│ TENNIS_PRACTICE  │   -10   │\n",
      "├──────────────────┼─────────┤\n",
      "│ WIN_THE_MATCH    │     0   │\n",
      "╘══════════════════╧═════════╛\n"
     ]
    }
   ],
   "source": [
    "gamma = 0.9\n",
    "\n",
    "v = np.zeros(6)\n",
    "\n",
    "for _ in range(1000):\n",
    "    v_new = np.zeros(6)\n",
    "    for state in States:\n",
    "        v_new[state] += R[state]\n",
    "        s = np.sum([P[Actions.PASSIVE][state][next_state] * v[next_state] for next_state in States])\n",
    "        v_new[state] += s * gamma\n",
    "    v = v_new\n",
    "\n",
    "print(tabulate(zip(map(lambda state: state.name, States), v), \n",
    "               headers=[\"State\", \"Value\"], tablefmt=\"fancy_grid\"))"
   ]
  },
  {
   "cell_type": "markdown",
   "id": "b8553593",
   "metadata": {},
   "source": [
    "## Calculate state-action values"
   ]
  },
  {
   "cell_type": "markdown",
   "id": "0a7703e5",
   "metadata": {},
   "source": [
    "The state action value function is given as follows:\n",
    "\n",
    "$$q_\\pi(s, a) = \\mathbf{E} [R_{t + 1} + \\gamma q_\\pi(S_{t + 1}, A_{t + 1}) | S_t = s, A_t = a]$$\n",
    "\n",
    "This is equivalent to the following:\n",
    "\n",
    "$$q_\\pi(s,a) = R_s^{a} + \\gamma \\sum \\limits_{s^\\prime \\in S} P_{ss^\\prime}^{a} \\sum \\limits_{a^\\prime \\in A} \\pi(a^\\prime | s^\\prime) q_\\pi(s^\\prime, a^\\prime)$$"
   ]
  },
  {
   "cell_type": "markdown",
   "id": "36f8fb7c",
   "metadata": {},
   "source": [
    "### The following code pieces calculate the state-action values for discount factor $\\gamma = 0.9$."
   ]
  },
  {
   "cell_type": "markdown",
   "id": "a1915ddd",
   "metadata": {},
   "source": [
    "**This code piece calculates the state-action values for given policy with $\\alpha = 0.5$.**"
   ]
  },
  {
   "cell_type": "code",
   "execution_count": 23,
   "id": "c6716adb",
   "metadata": {},
   "outputs": [
    {
     "name": "stdout",
     "output_type": "stream",
     "text": [
      "╒══════════════════╤══════════╤═══════════╕\n",
      "│ State            │   Active │   Passive │\n",
      "╞══════════════════╪══════════╪═══════════╡\n",
      "│ DEPRESSED        │ -5.82933 │  -6.07177 │\n",
      "├──────────────────┼──────────┼───────────┤\n",
      "│ SLEEP            │ -5.19229 │  -6.0783  │\n",
      "├──────────────────┼──────────┼───────────┤\n",
      "│ MORE_SLEEP       │ -5.20681 │  -6.0783  │\n",
      "├──────────────────┼──────────┼───────────┤\n",
      "│ FITNESS_RECOVERY │ -4.33533 │  -3.66826 │\n",
      "├──────────────────┼──────────┼───────────┤\n",
      "│ TENNIS_PRACTICE  │ -1.33353 │  -6.0783  │\n",
      "├──────────────────┼──────────┼───────────┤\n",
      "│ WIN_THE_MATCH    │  0       │   0       │\n",
      "╘══════════════════╧══════════╧═══════════╛\n"
     ]
    }
   ],
   "source": [
    "gamma = 0.9\n",
    "alpha = 0.5  # the probability of choosing the \"Active\" action\n",
    "\n",
    "# rows represent the states and\n",
    "# columns represent the Active and Passive policies respectively\n",
    "q = np.zeros((6, 2))\n",
    "\n",
    "for _ in range(1000):\n",
    "    q_new = np.zeros((6, 2))\n",
    "    for state in States:\n",
    "        for action in Actions:\n",
    "            q_new[state][action] += R[state]\n",
    "            s = np.sum([\n",
    "                P[action][state][next_state] * np.sum([\n",
    "                    ((1 - next_action) * alpha + next_action * (1 - alpha)) * q[next_state][next_action] \n",
    "                    for next_action in Actions\n",
    "                ])\n",
    "                for next_state in States\n",
    "            ])\n",
    "            q_new[state][action] += s * gamma\n",
    "    q = q_new\n",
    "\n",
    "print(tabulate(zip(map(lambda state: state.name, States), q[..., Actions.ACTIVE], q[..., Actions.PASSIVE]), \n",
    "               headers=[\"State\", \"Active\", \"Passive\"], tablefmt=\"fancy_grid\"))"
   ]
  },
  {
   "cell_type": "markdown",
   "id": "b6b469bf",
   "metadata": {},
   "source": [
    "**This code piece calculates the state-action values for given policy with different $\\alpha$ values.**"
   ]
  },
  {
   "cell_type": "code",
   "execution_count": 24,
   "id": "82db745b",
   "metadata": {
    "scrolled": false
   },
   "outputs": [
    {
     "name": "stdout",
     "output_type": "stream",
     "text": [
      "╒═══════════════════════╤══════════╤═══════════╕\n",
      "│ State (alpha = 0.2)   │   Active │   Passive │\n",
      "╞═══════════════════════╪══════════╪═══════════╡\n",
      "│ DEPRESSED             │ -8.28492 │  -8.82091 │\n",
      "├───────────────────────┼──────────┼───────────┤\n",
      "│ SLEEP                 │ -7.75956 │  -8.92248 │\n",
      "├───────────────────────┼──────────┼───────────┤\n",
      "│ MORE_SLEEP            │ -8.32386 │  -8.92248 │\n",
      "├───────────────────────┼──────────┼───────────┤\n",
      "│ FITNESS_RECOVERY      │ -7.72524 │  -6.38019 │\n",
      "├───────────────────────┼──────────┼───────────┤\n",
      "│ TENNIS_PRACTICE       │ -1.67252 │  -8.92248 │\n",
      "├───────────────────────┼──────────┼───────────┤\n",
      "│ WIN_THE_MATCH         │  0       │   0       │\n",
      "╘═══════════════════════╧══════════╧═══════════╛\n",
      "╒═══════════════════════╤══════════╤═══════════╕\n",
      "│ State (alpha = 0.4)   │   Active │   Passive │\n",
      "╞═══════════════════════╪══════════╪═══════════╡\n",
      "│ DEPRESSED             │ -6.54339 │  -6.90275 │\n",
      "├───────────────────────┼──────────┼───────────┤\n",
      "│ SLEEP                 │ -5.95488 │  -6.96109 │\n",
      "├───────────────────────┼──────────┼───────────┤\n",
      "│ MORE_SLEEP            │ -6.11695 │  -6.96109 │\n",
      "├───────────────────────┼──────────┼───────────┤\n",
      "│ FITNESS_RECOVERY      │ -5.27281 │  -4.41825 │\n",
      "├───────────────────────┼──────────┼───────────┤\n",
      "│ TENNIS_PRACTICE       │ -1.42728 │  -6.96109 │\n",
      "├───────────────────────┼──────────┼───────────┤\n",
      "│ WIN_THE_MATCH         │  0       │   0       │\n",
      "╘═══════════════════════╧══════════╧═══════════╛\n",
      "╒═══════════════════════╤══════════╤═══════════╕\n",
      "│ State (alpha = 0.6)   │   Active │   Passive │\n",
      "╞═══════════════════════╪══════════╪═══════════╡\n",
      "│ DEPRESSED             │ -5.26014 │  -5.38213 │\n",
      "├───────────────────────┼──────────┼───────────┤\n",
      "│ SLEEP                 │ -4.56254 │  -5.32877 │\n",
      "├───────────────────────┼──────────┼───────────┤\n",
      "│ MORE_SLEEP            │ -4.46373 │  -5.32877 │\n",
      "├───────────────────────┼──────────┼───────────┤\n",
      "│ FITNESS_RECOVERY      │ -3.59869 │  -3.07895 │\n",
      "├───────────────────────┼──────────┼───────────┤\n",
      "│ TENNIS_PRACTICE       │ -1.25987 │  -5.32877 │\n",
      "├───────────────────────┼──────────┼───────────┤\n",
      "│ WIN_THE_MATCH         │  0       │   0       │\n",
      "╘═══════════════════════╧══════════╧═══════════╛\n",
      "╒═══════════════════════╤══════════╤═══════════╕\n",
      "│ State (alpha = 0.8)   │   Active │   Passive │\n",
      "╞═══════════════════════╪══════════╪═══════════╡\n",
      "│ DEPRESSED             │ -4.50469 │  -4.38087 │\n",
      "├───────────────────────┼──────────┼───────────┤\n",
      "│ SLEEP                 │ -3.64528 │  -4.2015  │\n",
      "├───────────────────────┼──────────┼───────────┤\n",
      "│ MORE_SLEEP            │ -3.39616 │  -4.2015  │\n",
      "├───────────────────────┼──────────┼───────────┤\n",
      "│ FITNESS_RECOVERY      │ -2.59081 │  -2.27265 │\n",
      "├───────────────────────┼──────────┼───────────┤\n",
      "│ TENNIS_PRACTICE       │ -1.15908 │  -4.2015  │\n",
      "├───────────────────────┼──────────┼───────────┤\n",
      "│ WIN_THE_MATCH         │  0       │   0       │\n",
      "╘═══════════════════════╧══════════╧═══════════╛\n"
     ]
    }
   ],
   "source": [
    "q_values = dict()\n",
    "gamma = 0.9\n",
    "\n",
    "for alpha in count(0, 0.05):\n",
    "    alpha = np.round(alpha, 2)\n",
    "    \n",
    "    if alpha > 1:\n",
    "        break\n",
    "        \n",
    "    q = np.zeros((6, 2))\n",
    "\n",
    "    for _ in range(1000):\n",
    "        q_new = np.zeros((6, 2))\n",
    "        for state in States:\n",
    "            for action in Actions:\n",
    "                q_new[state][action] += R[state]\n",
    "                s = np.sum([\n",
    "                    P[action][state][next_state] * np.sum([\n",
    "                        ((1 - next_action) * alpha + next_action * (1 - alpha)) * q[next_state][next_action] \n",
    "                        for next_action in Actions\n",
    "                    ])\n",
    "                    for next_state in States\n",
    "                ])\n",
    "                q_new[state][action] += s * gamma\n",
    "        q = q_new\n",
    "\n",
    "    \n",
    "    q_values[alpha] = q\n",
    "\n",
    "# print the q values for some alpha values\n",
    "for alpha, q in list(q_values.items())[4:len(q_values) - 4:4]:\n",
    "    print(tabulate(zip(map(lambda state: state.name, States), q[..., Actions.ACTIVE], q[..., Actions.PASSIVE]), \n",
    "                   headers=[f\"State (alpha = {alpha})\", \"Active\", \"Passive\"], tablefmt=\"fancy_grid\"))"
   ]
  },
  {
   "cell_type": "markdown",
   "id": "8c018f29",
   "metadata": {},
   "source": [
    "## Calculating the state values using state-action values"
   ]
  },
  {
   "cell_type": "markdown",
   "id": "96b3ac15",
   "metadata": {},
   "source": [
    "The relationship between the state values and state-action values is given as:\n",
    "\n",
    "$$v_\\pi(s) = \\sum \\limits_{a \\in A} \\pi(a | s) q_\\pi(s, a)$$"
   ]
  },
  {
   "cell_type": "code",
   "execution_count": 25,
   "id": "7a455cb4",
   "metadata": {},
   "outputs": [
    {
     "name": "stdout",
     "output_type": "stream",
     "text": [
      "╒═════════════════════╤═════════╕\n",
      "│ State (alpha = 0)   │   Value │\n",
      "╞═════════════════════╪═════════╡\n",
      "│ DEPRESSED           │   -10   │\n",
      "├─────────────────────┼─────────┤\n",
      "│ SLEEP               │   -10   │\n",
      "├─────────────────────┼─────────┤\n",
      "│ MORE_SLEEP          │   -10   │\n",
      "├─────────────────────┼─────────┤\n",
      "│ FITNESS_RECOVERY    │    -8.2 │\n",
      "├─────────────────────┼─────────┤\n",
      "│ TENNIS_PRACTICE     │   -10   │\n",
      "├─────────────────────┼─────────┤\n",
      "│ WIN_THE_MATCH       │     0   │\n",
      "╘═════════════════════╧═════════╛\n",
      "╒═══════════════════════╤══════════╕\n",
      "│ State (alpha = 0.2)   │    Value │\n",
      "╞═══════════════════════╪══════════╡\n",
      "│ DEPRESSED             │ -8.71371 │\n",
      "├───────────────────────┼──────────┤\n",
      "│ SLEEP                 │ -8.6899  │\n",
      "├───────────────────────┼──────────┤\n",
      "│ MORE_SLEEP            │ -8.80276 │\n",
      "├───────────────────────┼──────────┤\n",
      "│ FITNESS_RECOVERY      │ -6.6492  │\n",
      "├───────────────────────┼──────────┤\n",
      "│ TENNIS_PRACTICE       │ -7.47249 │\n",
      "├───────────────────────┼──────────┤\n",
      "│ WIN_THE_MATCH         │  0       │\n",
      "╘═══════════════════════╧══════════╛\n",
      "╒═══════════════════════╤══════════╕\n",
      "│ State (alpha = 0.4)   │    Value │\n",
      "╞═══════════════════════╪══════════╡\n",
      "│ DEPRESSED             │ -6.759   │\n",
      "├───────────────────────┼──────────┤\n",
      "│ SLEEP                 │ -6.55861 │\n",
      "├───────────────────────┼──────────┤\n",
      "│ MORE_SLEEP            │ -6.62344 │\n",
      "├───────────────────────┼──────────┤\n",
      "│ FITNESS_RECOVERY      │ -4.76007 │\n",
      "├───────────────────────┼──────────┤\n",
      "│ TENNIS_PRACTICE       │ -4.74757 │\n",
      "├───────────────────────┼──────────┤\n",
      "│ WIN_THE_MATCH         │  0       │\n",
      "╘═══════════════════════╧══════════╛\n",
      "╒═══════════════════════╤══════════╕\n",
      "│ State (alpha = 0.6)   │    Value │\n",
      "╞═══════════════════════╪══════════╡\n",
      "│ DEPRESSED             │ -5.30894 │\n",
      "├───────────────────────┼──────────┤\n",
      "│ SLEEP                 │ -4.86903 │\n",
      "├───────────────────────┼──────────┤\n",
      "│ MORE_SLEEP            │ -4.80975 │\n",
      "├───────────────────────┼──────────┤\n",
      "│ FITNESS_RECOVERY      │ -3.39079 │\n",
      "├───────────────────────┼──────────┤\n",
      "│ TENNIS_PRACTICE       │ -2.88743 │\n",
      "├───────────────────────┼──────────┤\n",
      "│ WIN_THE_MATCH         │  0       │\n",
      "╘═══════════════════════╧══════════╛\n",
      "╒═══════════════════════╤══════════╕\n",
      "│ State (alpha = 0.8)   │    Value │\n",
      "╞═══════════════════════╪══════════╡\n",
      "│ DEPRESSED             │ -4.47993 │\n",
      "├───────────────────────┼──────────┤\n",
      "│ SLEEP                 │ -3.75652 │\n",
      "├───────────────────────┼──────────┤\n",
      "│ MORE_SLEEP            │ -3.55722 │\n",
      "├───────────────────────┼──────────┤\n",
      "│ FITNESS_RECOVERY      │ -2.52718 │\n",
      "├───────────────────────┼──────────┤\n",
      "│ TENNIS_PRACTICE       │ -1.76757 │\n",
      "├───────────────────────┼──────────┤\n",
      "│ WIN_THE_MATCH         │  0       │\n",
      "╘═══════════════════════╧══════════╛\n",
      "╒═══════════════════════╤══════════╕\n",
      "│ State (alpha = 1.0)   │    Value │\n",
      "╞═══════════════════════╪══════════╡\n",
      "│ DEPRESSED             │ -4.15414 │\n",
      "├───────────────────────┼──────────┤\n",
      "│ SLEEP                 │ -3.05229 │\n",
      "├───────────────────────┼──────────┤\n",
      "│ MORE_SLEEP            │ -2.71728 │\n",
      "├───────────────────────┼──────────┤\n",
      "│ FITNESS_RECOVERY      │ -1.98901 │\n",
      "├───────────────────────┼──────────┤\n",
      "│ TENNIS_PRACTICE       │ -1.0989  │\n",
      "├───────────────────────┼──────────┤\n",
      "│ WIN_THE_MATCH         │  0       │\n",
      "╘═══════════════════════╧══════════╛\n"
     ]
    }
   ],
   "source": [
    "values = {\n",
    "    alpha: np.array([\n",
    "        np.sum([((1 - action) * alpha + action * (1 - alpha)) * q[state][action] for action in Actions]) \n",
    "        for state in States\n",
    "    ])\n",
    "    for alpha, q in q_values.items()\n",
    "}\n",
    "\n",
    "# print the state values for some alpha values\n",
    "for alpha, v in list(values.items())[::4]:\n",
    "    print(tabulate(zip(map(lambda state: state.name, States), v), \n",
    "                   headers=[f\"State (alpha = {alpha})\", \"Value\"], tablefmt=\"fancy_grid\"))"
   ]
  },
  {
   "cell_type": "markdown",
   "id": "727248a5",
   "metadata": {},
   "source": [
    "We can observe that the edge cases ($\\alpha = 0$ and $\\alpha = 1.0$) match the previous results."
   ]
  },
  {
   "cell_type": "markdown",
   "id": "b4b40d2a",
   "metadata": {},
   "source": [
    "**We can also use the following equation to calculate state values:**\n",
    "\n",
    "$$\n",
    "    v = (I_6 - \\gamma (\\alpha P_{active} + (1 - \\alpha)P_{passive})^{-1}R\n",
    "$$"
   ]
  },
  {
   "cell_type": "code",
   "execution_count": 26,
   "id": "b73c3ac3",
   "metadata": {},
   "outputs": [
    {
     "name": "stdout",
     "output_type": "stream",
     "text": [
      "╒═════════════════════╤═════════╕\n",
      "│ State (alpha = 0)   │   Value │\n",
      "╞═════════════════════╪═════════╡\n",
      "│ DEPRESSED           │   -10   │\n",
      "├─────────────────────┼─────────┤\n",
      "│ SLEEP               │   -10   │\n",
      "├─────────────────────┼─────────┤\n",
      "│ MORE_SLEEP          │   -10   │\n",
      "├─────────────────────┼─────────┤\n",
      "│ FITNESS_RECOVERY    │    -8.2 │\n",
      "├─────────────────────┼─────────┤\n",
      "│ TENNIS_PRACTICE     │   -10   │\n",
      "├─────────────────────┼─────────┤\n",
      "│ WIN_THE_MATCH       │     0   │\n",
      "╘═════════════════════╧═════════╛\n",
      "╒═══════════════════════╤══════════╕\n",
      "│ State (alpha = 0.2)   │    Value │\n",
      "╞═══════════════════════╪══════════╡\n",
      "│ DEPRESSED             │ -8.71371 │\n",
      "├───────────────────────┼──────────┤\n",
      "│ SLEEP                 │ -8.6899  │\n",
      "├───────────────────────┼──────────┤\n",
      "│ MORE_SLEEP            │ -8.80276 │\n",
      "├───────────────────────┼──────────┤\n",
      "│ FITNESS_RECOVERY      │ -6.6492  │\n",
      "├───────────────────────┼──────────┤\n",
      "│ TENNIS_PRACTICE       │ -7.47249 │\n",
      "├───────────────────────┼──────────┤\n",
      "│ WIN_THE_MATCH         │  0       │\n",
      "╘═══════════════════════╧══════════╛\n",
      "╒═══════════════════════╤══════════╕\n",
      "│ State (alpha = 0.4)   │    Value │\n",
      "╞═══════════════════════╪══════════╡\n",
      "│ DEPRESSED             │ -6.759   │\n",
      "├───────────────────────┼──────────┤\n",
      "│ SLEEP                 │ -6.55861 │\n",
      "├───────────────────────┼──────────┤\n",
      "│ MORE_SLEEP            │ -6.62344 │\n",
      "├───────────────────────┼──────────┤\n",
      "│ FITNESS_RECOVERY      │ -4.76007 │\n",
      "├───────────────────────┼──────────┤\n",
      "│ TENNIS_PRACTICE       │ -4.74757 │\n",
      "├───────────────────────┼──────────┤\n",
      "│ WIN_THE_MATCH         │  0       │\n",
      "╘═══════════════════════╧══════════╛\n",
      "╒═══════════════════════╤══════════╕\n",
      "│ State (alpha = 0.6)   │    Value │\n",
      "╞═══════════════════════╪══════════╡\n",
      "│ DEPRESSED             │ -5.30894 │\n",
      "├───────────────────────┼──────────┤\n",
      "│ SLEEP                 │ -4.86903 │\n",
      "├───────────────────────┼──────────┤\n",
      "│ MORE_SLEEP            │ -4.80975 │\n",
      "├───────────────────────┼──────────┤\n",
      "│ FITNESS_RECOVERY      │ -3.39079 │\n",
      "├───────────────────────┼──────────┤\n",
      "│ TENNIS_PRACTICE       │ -2.88743 │\n",
      "├───────────────────────┼──────────┤\n",
      "│ WIN_THE_MATCH         │  0       │\n",
      "╘═══════════════════════╧══════════╛\n",
      "╒═══════════════════════╤══════════╕\n",
      "│ State (alpha = 0.8)   │    Value │\n",
      "╞═══════════════════════╪══════════╡\n",
      "│ DEPRESSED             │ -4.47993 │\n",
      "├───────────────────────┼──────────┤\n",
      "│ SLEEP                 │ -3.75652 │\n",
      "├───────────────────────┼──────────┤\n",
      "│ MORE_SLEEP            │ -3.55722 │\n",
      "├───────────────────────┼──────────┤\n",
      "│ FITNESS_RECOVERY      │ -2.52718 │\n",
      "├───────────────────────┼──────────┤\n",
      "│ TENNIS_PRACTICE       │ -1.76757 │\n",
      "├───────────────────────┼──────────┤\n",
      "│ WIN_THE_MATCH         │  0       │\n",
      "╘═══════════════════════╧══════════╛\n",
      "╒═══════════════════════╤══════════╕\n",
      "│ State (alpha = 1.0)   │    Value │\n",
      "╞═══════════════════════╪══════════╡\n",
      "│ DEPRESSED             │ -4.15414 │\n",
      "├───────────────────────┼──────────┤\n",
      "│ SLEEP                 │ -3.05229 │\n",
      "├───────────────────────┼──────────┤\n",
      "│ MORE_SLEEP            │ -2.71728 │\n",
      "├───────────────────────┼──────────┤\n",
      "│ FITNESS_RECOVERY      │ -1.98901 │\n",
      "├───────────────────────┼──────────┤\n",
      "│ TENNIS_PRACTICE       │ -1.0989  │\n",
      "├───────────────────────┼──────────┤\n",
      "│ WIN_THE_MATCH         │  0       │\n",
      "╘═══════════════════════╧══════════╛\n"
     ]
    }
   ],
   "source": [
    "values = {\n",
    "    alpha: np.linalg.inv(np.identity(6) - gamma * (alpha * P[Actions.ACTIVE] + (1 - alpha) * P[Actions.PASSIVE])) @ R\n",
    "    for alpha in q_values.keys()\n",
    "}\n",
    "\n",
    "for alpha, v in list(values.items())[::4]:\n",
    "    print(tabulate(zip(map(lambda state: state.name, States), v),\n",
    "                   headers=[f\"State (alpha = {alpha})\", \"Value\"], tablefmt=\"fancy_grid\"))"
   ]
  },
  {
   "cell_type": "markdown",
   "id": "f3cffe1d",
   "metadata": {},
   "source": [
    "### Visualize the data for each state as a function of $\\alpha$"
   ]
  },
  {
   "cell_type": "code",
   "execution_count": 27,
   "id": "935d5bff",
   "metadata": {
    "scrolled": false
   },
   "outputs": [
    {
     "data": {
      "image/png": "[encoded data removed]",
      "text/plain": [
       "<Figure size 432x288 with 1 Axes>"
      ]
     },
     "metadata": {
      "needs_background": "light"
     },
     "output_type": "display_data"
    },
    {
     "data": {
      "image/png": "[encoded data removed]",
      "text/plain": [
       "<Figure size 432x288 with 1 Axes>"
      ]
     },
     "metadata": {
      "needs_background": "light"
     },
     "output_type": "display_data"
    },
    {
     "data": {
      "image/png": "[encoded data removed]",
      "text/plain": [
       "<Figure size 432x288 with 1 Axes>"
      ]
     },
     "metadata": {
      "needs_background": "light"
     },
     "output_type": "display_data"
    },
    {
     "data": {
      "image/png": "[encoded data removed]",
      "text/plain": [
       "<Figure size 432x288 with 1 Axes>"
      ]
     },
     "metadata": {
      "needs_background": "light"
     },
     "output_type": "display_data"
    },
    {
     "data": {
      "image/png": "[encoded data removed]",
      "text/plain": [
       "<Figure size 432x288 with 1 Axes>"
      ]
     },
     "metadata": {
      "needs_background": "light"
     },
     "output_type": "display_data"
    }
   ],
   "source": [
    "for state in States:\n",
    "    if state is States.WIN_THE_MATCH:\n",
    "        continue\n",
    "        \n",
    "    state_values = np.array([\n",
    "        value[state] for value in values.values()\n",
    "    ])\n",
    "        \n",
    "    plt.figure()\n",
    "    plt.title(rf\"State value for state {state.name} with respect to $\\alpha$\", pad=10)\n",
    "    plt.xlabel(r\"$\\alpha$\")\n",
    "    plt.ylabel(\"State value\")\n",
    "    \n",
    "    ax = plt.gca()\n",
    "    ax.tick_params(axis='both', which='major', pad=5)\n",
    "\n",
    "    plt.plot(np.array(list(values.keys())), state_values)\n",
    "    plt.show()"
   ]
  },
  {
   "cell_type": "markdown",
   "id": "b889097e",
   "metadata": {},
   "source": [
    "We can observe that the state values increase as $\\alpha$ increases. Since $\\alpha$ is the probability of taking the \"Active\" action, the results indicate that the \"Active\" action gives better results for all states."
   ]
  }
 ],
 "metadata": {
  "kernelspec": {
   "display_name": "Python 3 (ipykernel)",
   "language": "python",
   "name": "python3"
  },
  "language_info": {
   "codemirror_mode": {
    "name": "ipython",
    "version": 3
   },
   "file_extension": ".py",
   "mimetype": "text/x-python",
   "name": "python",
   "nbconvert_exporter": "python",
   "pygments_lexer": "ipython3",
   "version": "3.8.8"
  }
 },
 "nbformat": 4,
 "nbformat_minor": 5
}
